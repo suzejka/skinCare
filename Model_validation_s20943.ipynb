{
 "cells": [
  {
   "cell_type": "markdown",
   "metadata": {},
   "source": [
    "Walidacja wybranych modeli"
   ]
  },
  {
   "cell_type": "code",
   "execution_count": 4,
   "metadata": {},
   "outputs": [],
   "source": [
    "from pickle import FALSE\n",
    "import pandas as pd\n",
    "from sklearn.metrics import accuracy_score\n",
    "from sklearn.model_selection import train_test_split\n",
    "from sklearn.preprocessing import LabelEncoder\n",
    "from sklearn.tree import DecisionTreeClassifier\n",
    "import time\n",
    "import streamlit as st\n",
    "import warnings \n",
    "import requests\n",
    "from sklearn.neighbors import KNeighborsClassifier\n",
    "from sklearn.linear_model import LogisticRegression\n",
    "import numpy as np \n",
    "from sklearn.ensemble import RandomForestClassifier\n",
    "warnings.filterwarnings(\"ignore\")"
   ]
  },
  {
   "cell_type": "code",
   "execution_count": 117,
   "metadata": {},
   "outputs": [],
   "source": [
    "dataset = pd.read_csv(\"daneSkinCare.csv\", sep=';')\n",
    "dataset = dataset.loc[:, ~dataset.columns.str.contains('^Unnamed')]"
   ]
  },
  {
   "cell_type": "code",
   "execution_count": 118,
   "metadata": {},
   "outputs": [
    {
     "name": "stdout",
     "output_type": "stream",
     "text": [
      "<class 'pandas.core.frame.DataFrame'>\n",
      "RangeIndex: 154 entries, 0 to 153\n",
      "Data columns (total 15 columns):\n",
      " #   Column            Non-Null Count  Dtype \n",
      "---  ------            --------------  ----- \n",
      " 0   ID                154 non-null    int64 \n",
      " 1   Typ cery          154 non-null    object\n",
      " 2   Wrażliwa          154 non-null    int64 \n",
      " 3   Główny problem    154 non-null    object\n",
      " 4   Poboczny problem  154 non-null    object\n",
      " 5   Wiek              154 non-null    int64 \n",
      " 6   Mycie             154 non-null    object\n",
      " 7   Serum na dzień    154 non-null    object\n",
      " 8   Krem na dzień     154 non-null    object\n",
      " 9   SPF               154 non-null    object\n",
      " 10  Serum na noc      154 non-null    object\n",
      " 11  Krem na noc       154 non-null    object\n",
      " 12  Punktowo          154 non-null    object\n",
      " 13  Maseczka          154 non-null    object\n",
      " 14  Peeling           154 non-null    object\n",
      "dtypes: int64(3), object(12)\n",
      "memory usage: 18.2+ KB\n"
     ]
    }
   ],
   "source": [
    "dataset.info()"
   ]
  },
  {
   "cell_type": "code",
   "execution_count": 119,
   "metadata": {},
   "outputs": [],
   "source": [
    "def clearSkinTypeMisspelledData(datasetToClean):\n",
    "    datasetToClean.loc[(datasetToClean[\"Typ cery\"] == \"tłusta\") | \n",
    "                        (datasetToClean[\"Typ cery\"] == \"tlusta\") | \n",
    "                        (datasetToClean[\"Typ cery\"] == \"Tlusta\"), \"Typ cery\"] = \"Tłusta\"\n",
    "    datasetToClean.loc[(datasetToClean[\"Typ cery\"] == \"mieszana\"), \"Typ cery\"] = \"Mieszana\"\n",
    "    datasetToClean.loc[(datasetToClean[\"Typ cery\"] == \"sucha\"), \"Typ cery\"] = \"Sucha\"\n",
    "    datasetToClean.loc[(datasetToClean[\"Typ cery\"] == \"normalna\"), \"Typ cery\"] = \"Normalna\"\n",
    "\n",
    "def clearMainOrsecondProblemMisspelledData(datasetToClean, mainOrsecondProblem):\n",
    "    datasetToClean.loc[(datasetToClean[mainOrsecondProblem] == \"nadprodukcja sebum\") | \n",
    "                        (datasetToClean[mainOrsecondProblem] == \"nadprodukcja Sebum\"), mainOrsecondProblem] = \"Nadprodukcja sebum\"\n",
    "    datasetToClean.loc[(datasetToClean[mainOrsecondProblem] == \"niedoskonałości\") | \n",
    "                        (datasetToClean[mainOrsecondProblem] == \"niedoskonalosci\") |\n",
    "                        (datasetToClean[mainOrsecondProblem] == \"niedoskonałosci\") |\n",
    "                        (datasetToClean[mainOrsecondProblem] == \"niedoskonalości\") |\n",
    "                        (datasetToClean[mainOrsecondProblem] == \"Niedoskonalości\") | \n",
    "                        (datasetToClean[mainOrsecondProblem] == \"Niedoskonalosci\") |\n",
    "                        (datasetToClean[mainOrsecondProblem] == \"Niedoskonałosci\"), mainOrsecondProblem] = \"Niedoskonałości\"\n",
    "    datasetToClean.loc[(datasetToClean[mainOrsecondProblem] == \"podrażnienie\") | \n",
    "                        (datasetToClean[mainOrsecondProblem] == \"podraznienie\") |\n",
    "                        (datasetToClean[mainOrsecondProblem] == \"Podraznienie\") , mainOrsecondProblem] = \"Podrażnienie\"\n",
    "    datasetToClean.loc[(datasetToClean[mainOrsecondProblem] == \"przebarwienia\"), mainOrsecondProblem] = \"Przebarwienia\"\n",
    "    datasetToClean.loc[(datasetToClean[mainOrsecondProblem] == \"rozszerzone pory\") | \n",
    "                        (datasetToClean[mainOrsecondProblem] == \"Rozszerzone Pory\") |\n",
    "                        (datasetToClean[mainOrsecondProblem] == \"rozszerzone Pory\") , mainOrsecondProblem] = \"Rozszerzone pory\"\n",
    "    datasetToClean.loc[(datasetToClean[mainOrsecondProblem] == \"suche skórki\") | \n",
    "                        (datasetToClean[mainOrsecondProblem] == \"suche Skórki\") |\n",
    "                        (datasetToClean[mainOrsecondProblem] == \"Suche skorki\") |\n",
    "                        (datasetToClean[mainOrsecondProblem] == \"suche skorki\") |\n",
    "                        (datasetToClean[mainOrsecondProblem] == \"suche Skorki\"), mainOrsecondProblem] = \"Suche skórki\"\n",
    "    datasetToClean.loc[(datasetToClean[mainOrsecondProblem] == \"szara cera\") | \n",
    "                        (datasetToClean[mainOrsecondProblem] == \"szara Cera\") |\n",
    "                        (datasetToClean[mainOrsecondProblem] == \"Szara Cera\"), mainOrsecondProblem] = \"Szara cera\"\n",
    "    datasetToClean.loc[(datasetToClean[mainOrsecondProblem] == \"widoczne naczynka\") | \n",
    "                        (datasetToClean[mainOrsecondProblem] == \"Widoczne Naczynka\") |\n",
    "                        (datasetToClean[mainOrsecondProblem] == \"widoczne Naczynka\"), mainOrsecondProblem] = \"Widoczne naczynka\"\n",
    "    if mainOrsecondProblem == \"Poboczny problem\":\n",
    "        datasetToClean.loc[(datasetToClean[\"Poboczny problem\"] == \"brak\"), \"Poboczny problem\"] = \"Brak\"\n",
    "\n",
    "def clearData(datasetToClean):\n",
    "    datasetToClean.dropna()\n",
    "    clearSkinTypeMisspelledData(datasetToClean)\n",
    "    clearMainOrsecondProblemMisspelledData(datasetToClean, \"Główny problem\")\n",
    "    clearMainOrsecondProblemMisspelledData(datasetToClean, \"Poboczny problem\")\n",
    "    datasetToClean.drop_duplicates(inplace=True)\n",
    "    datasetToClean = datasetToClean[datasetToClean[\"Wiek\"] >= 16]"
   ]
  },
  {
   "cell_type": "code",
   "execution_count": 121,
   "metadata": {},
   "outputs": [
    {
     "data": {
      "text/html": [
       "<div>\n",
       "<style scoped>\n",
       "    .dataframe tbody tr th:only-of-type {\n",
       "        vertical-align: middle;\n",
       "    }\n",
       "\n",
       "    .dataframe tbody tr th {\n",
       "        vertical-align: top;\n",
       "    }\n",
       "\n",
       "    .dataframe thead th {\n",
       "        text-align: right;\n",
       "    }\n",
       "</style>\n",
       "<table border=\"1\" class=\"dataframe\">\n",
       "  <thead>\n",
       "    <tr style=\"text-align: right;\">\n",
       "      <th></th>\n",
       "      <th>ID</th>\n",
       "      <th>Typ cery</th>\n",
       "      <th>Wrażliwa</th>\n",
       "      <th>Główny problem</th>\n",
       "      <th>Poboczny problem</th>\n",
       "      <th>Wiek</th>\n",
       "      <th>Mycie</th>\n",
       "      <th>Serum na dzień</th>\n",
       "      <th>Krem na dzień</th>\n",
       "      <th>SPF</th>\n",
       "      <th>Serum na noc</th>\n",
       "      <th>Krem na noc</th>\n",
       "      <th>Punktowo</th>\n",
       "      <th>Maseczka</th>\n",
       "      <th>Peeling</th>\n",
       "    </tr>\n",
       "  </thead>\n",
       "  <tbody>\n",
       "    <tr>\n",
       "      <th>0</th>\n",
       "      <td>1</td>\n",
       "      <td>Tłusta</td>\n",
       "      <td>0</td>\n",
       "      <td>Nadprodukcja sebum</td>\n",
       "      <td>Niedoskonałości</td>\n",
       "      <td>17</td>\n",
       "      <td>Neutrogena Visibly Clear Clear &amp; Defend Facial...</td>\n",
       "      <td>Revox Just Niacinamide 10%</td>\n",
       "      <td>Tołpa - Authentic - Krem Matowa Skóra</td>\n",
       "      <td>SVR Sebiaclear Creme SPF 50</td>\n",
       "      <td>Eveline Cosmetics Beauty &amp; Glow Matujące Serum...</td>\n",
       "      <td>SVR Sebiaclear Hydra</td>\n",
       "      <td>Bandi - Sebo Care - Pasta Punktowa na Niedosko...</td>\n",
       "      <td>Nacomi Next Lvl Kwas Salicylowy 2% + Nature Qu...</td>\n",
       "      <td>Brak</td>\n",
       "    </tr>\n",
       "    <tr>\n",
       "      <th>1</th>\n",
       "      <td>2</td>\n",
       "      <td>Mieszana</td>\n",
       "      <td>1</td>\n",
       "      <td>Nadprodukcja sebum</td>\n",
       "      <td>Niedoskonałości</td>\n",
       "      <td>20</td>\n",
       "      <td>Pharmaceris T Puri-Sebogel - antybakteryjny że...</td>\n",
       "      <td>Revox Just Niacinamide 10%</td>\n",
       "      <td>Bandi Medical Expert Anti Dry Emulsja silnie n...</td>\n",
       "      <td>Missha - All-Around Safe Block Aqua Sun Gel SP...</td>\n",
       "      <td>The Ordinary - Niacinamide 10% + Zinc 1% - Ser...</td>\n",
       "      <td>SVR Sebiaclear Hydra</td>\n",
       "      <td>Bandi - Sebo Care - Pasta Punktowa na Niedosko...</td>\n",
       "      <td>Nacomi Next Lvl Kwas Salicylowy 2% + Nacomi Bi...</td>\n",
       "      <td>BANDI ANTI ACNE antytrądzikowy peeling kwasowy...</td>\n",
       "    </tr>\n",
       "    <tr>\n",
       "      <th>2</th>\n",
       "      <td>3</td>\n",
       "      <td>Mieszana</td>\n",
       "      <td>1</td>\n",
       "      <td>Nadprodukcja sebum</td>\n",
       "      <td>Niedoskonałości</td>\n",
       "      <td>20</td>\n",
       "      <td>Pharmaceris T Puri-Sebogel - antybakteryjny że...</td>\n",
       "      <td>Revox Just Niacinamide 10%</td>\n",
       "      <td>Cetaphil - Pro Oil Control SPF30 - Krem Nawilż...</td>\n",
       "      <td>Missha - All-Around Safe Block Aqua Sun Gel SP...</td>\n",
       "      <td>The Ordinary - Niacinamide 10% + Zinc 1% - Ser...</td>\n",
       "      <td>Dermedic Melumin</td>\n",
       "      <td>Bandi - Sebo Care - Pasta Punktowa na Niedosko...</td>\n",
       "      <td>Nacomi Next Lvl Kwas Salicylowy 2% + Nacomi Bi...</td>\n",
       "      <td>BANDI ANTI ACNE antytrądzikowy peeling kwasowy...</td>\n",
       "    </tr>\n",
       "  </tbody>\n",
       "</table>\n",
       "</div>"
      ],
      "text/plain": [
       "   ID  Typ cery  Wrażliwa      Główny problem Poboczny problem  Wiek  \\\n",
       "0   1    Tłusta         0  Nadprodukcja sebum  Niedoskonałości    17   \n",
       "1   2  Mieszana         1  Nadprodukcja sebum  Niedoskonałości    20   \n",
       "2   3  Mieszana         1  Nadprodukcja sebum  Niedoskonałości    20   \n",
       "\n",
       "                                               Mycie  \\\n",
       "0  Neutrogena Visibly Clear Clear & Defend Facial...   \n",
       "1  Pharmaceris T Puri-Sebogel - antybakteryjny że...   \n",
       "2  Pharmaceris T Puri-Sebogel - antybakteryjny że...   \n",
       "\n",
       "               Serum na dzień  \\\n",
       "0  Revox Just Niacinamide 10%   \n",
       "1  Revox Just Niacinamide 10%   \n",
       "2  Revox Just Niacinamide 10%   \n",
       "\n",
       "                                       Krem na dzień  \\\n",
       "0              Tołpa - Authentic - Krem Matowa Skóra   \n",
       "1  Bandi Medical Expert Anti Dry Emulsja silnie n...   \n",
       "2  Cetaphil - Pro Oil Control SPF30 - Krem Nawilż...   \n",
       "\n",
       "                                                 SPF  \\\n",
       "0                        SVR Sebiaclear Creme SPF 50   \n",
       "1  Missha - All-Around Safe Block Aqua Sun Gel SP...   \n",
       "2  Missha - All-Around Safe Block Aqua Sun Gel SP...   \n",
       "\n",
       "                                        Serum na noc           Krem na noc  \\\n",
       "0  Eveline Cosmetics Beauty & Glow Matujące Serum...  SVR Sebiaclear Hydra   \n",
       "1  The Ordinary - Niacinamide 10% + Zinc 1% - Ser...  SVR Sebiaclear Hydra   \n",
       "2  The Ordinary - Niacinamide 10% + Zinc 1% - Ser...      Dermedic Melumin   \n",
       "\n",
       "                                            Punktowo  \\\n",
       "0  Bandi - Sebo Care - Pasta Punktowa na Niedosko...   \n",
       "1  Bandi - Sebo Care - Pasta Punktowa na Niedosko...   \n",
       "2  Bandi - Sebo Care - Pasta Punktowa na Niedosko...   \n",
       "\n",
       "                                            Maseczka  \\\n",
       "0  Nacomi Next Lvl Kwas Salicylowy 2% + Nature Qu...   \n",
       "1  Nacomi Next Lvl Kwas Salicylowy 2% + Nacomi Bi...   \n",
       "2  Nacomi Next Lvl Kwas Salicylowy 2% + Nacomi Bi...   \n",
       "\n",
       "                                             Peeling  \n",
       "0                                               Brak  \n",
       "1  BANDI ANTI ACNE antytrądzikowy peeling kwasowy...  \n",
       "2  BANDI ANTI ACNE antytrądzikowy peeling kwasowy...  "
      ]
     },
     "execution_count": 121,
     "metadata": {},
     "output_type": "execute_result"
    }
   ],
   "source": [
    "clearData(dataset)\n",
    "dataset.head(3)"
   ]
  },
  {
   "cell_type": "code",
   "execution_count": 6,
   "metadata": {},
   "outputs": [],
   "source": [
    "encoder = None\n",
    "encoders = {}\n",
    "labelsDescription = {}\n",
    "skinType = None\n",
    "isSensitive = None\n",
    "mainProblem = None\n",
    "secondProblem = None\n",
    "age = None\n",
    "resultSkinCare = {}\n",
    "models = []\n",
    "accuracy = {}\n",
    "products = {}\n",
    "link = None\n",
    "chosenProduct = None\n",
    "\n",
    "askedColumnNames = ['Typ cery', 'Główny problem', 'Poboczny problem', 'Wrażliwa','Wiek']\n",
    "categoricalColumnNames = ['Typ cery', 'Główny problem', 'Poboczny problem']\n",
    "decisionColumnNames = ['Mycie','Serum na dzień','Krem na dzień','SPF','Serum na noc','Krem na noc','Punktowo','Maseczka','Peeling']\n",
    "allColumns = askedColumnNames + decisionColumnNames\n",
    "allCategoricalColumns = categoricalColumnNames + decisionColumnNames"
   ]
  },
  {
   "cell_type": "code",
   "execution_count": 7,
   "metadata": {},
   "outputs": [],
   "source": [
    "def getProblemColumnIndex(problemName):\n",
    "    match problemName:\n",
    "        case 'Mycie':\n",
    "            return 6\n",
    "        case 'Serum na dzień':\n",
    "            return 7\n",
    "        case 'Krem na dzień':\n",
    "            return  8\n",
    "        case 'SPF' :\n",
    "            return  9\n",
    "        case 'Serum na noc':\n",
    "            return  10\n",
    "        case 'Krem na noc':\n",
    "            return  11\n",
    "        case 'Punktowo':\n",
    "            return  12\n",
    "        case 'Maseczka':\n",
    "            return  13\n",
    "        case 'Peeling':\n",
    "            return  14\n",
    "        case _:\n",
    "            raise ValueError(\"Nie rozpoznano kategorii produktu.\")"
   ]
  },
  {
   "cell_type": "code",
   "execution_count": 8,
   "metadata": {},
   "outputs": [],
   "source": [
    "from sklearn import decomposition\n",
    "from sklearn.pipeline import Pipeline\n",
    "from sklearn.model_selection import GridSearchCV\n",
    "from sklearn.preprocessing import StandardScaler"
   ]
  },
  {
   "cell_type": "code",
   "execution_count": 23,
   "metadata": {},
   "outputs": [],
   "source": [
    "import matplotlib.pyplot as plt"
   ]
  },
  {
   "cell_type": "code",
   "execution_count": 11,
   "metadata": {},
   "outputs": [],
   "source": [
    "def createLabelEncoding(datasetToEncode):\n",
    "    global encoders, labelsDescription\n",
    "    \n",
    "    for categoricalColumn in allCategoricalColumns:\n",
    "        encoders[categoricalColumn] = LabelEncoder()\n",
    "        uniqueValues = list(datasetToEncode[categoricalColumn].unique())\n",
    "        encoders[categoricalColumn] = encoders[categoricalColumn].fit(uniqueValues)\n",
    "        datasetToEncode[categoricalColumn] = encoders[categoricalColumn].transform(datasetToEncode[categoricalColumn])\n",
    "        \n",
    "    return datasetToEncode"
   ]
  },
  {
   "cell_type": "code",
   "execution_count": 12,
   "metadata": {},
   "outputs": [],
   "source": [
    "labeledDataset = createLabelEncoding(dataset)"
   ]
  },
  {
   "cell_type": "markdown",
   "metadata": {},
   "source": [
    "Typy danych w zbiorze po kodowaniu LabelEncoder "
   ]
  },
  {
   "cell_type": "code",
   "execution_count": 13,
   "metadata": {},
   "outputs": [
    {
     "data": {
      "text/plain": [
       "ID                  int64\n",
       "Typ cery            int32\n",
       "Wrażliwa            int64\n",
       "Główny problem      int32\n",
       "Poboczny problem    int32\n",
       "Wiek                int64\n",
       "Mycie               int32\n",
       "Serum na dzień      int32\n",
       "Krem na dzień       int32\n",
       "SPF                 int32\n",
       "Serum na noc        int32\n",
       "Krem na noc         int32\n",
       "Punktowo            int32\n",
       "Maseczka            int32\n",
       "Peeling             int32\n",
       "dtype: object"
      ]
     },
     "execution_count": 13,
     "metadata": {},
     "output_type": "execute_result"
    }
   ],
   "source": [
    "labeledDataset.dtypes"
   ]
  },
  {
   "cell_type": "code",
   "execution_count": 14,
   "metadata": {},
   "outputs": [],
   "source": [
    "def defineModel(model):\n",
    "    match model:\n",
    "        case 'DecisionTreeClassifier':\n",
    "            return DecisionTreeClassifier()\n",
    "        case 'KNeighborsClassifier':\n",
    "            return KNeighborsClassifier()\n",
    "        case 'LogisticRegression':\n",
    "            return LogisticRegression()\n",
    "        case 'RandomForestClassifier':\n",
    "            return RandomForestClassifier()"
   ]
  },
  {
   "cell_type": "code",
   "execution_count": 24,
   "metadata": {},
   "outputs": [],
   "source": [
    "def makeSingleProblemModel(problemName, dumDf, dataset, modelName, maxDepth = None, criterion = None, maxFeatures = None, nEstimators = None, nn = None, C = None, penalty = None):\n",
    "    problemIndex = 0\n",
    "    global accuracy\n",
    "    match problemName:\n",
    "        case 'Mycie':\n",
    "            problemIndex = 6\n",
    "        case 'Serum na dzień':\n",
    "            problemIndex = 7\n",
    "        case 'Krem na dzień':\n",
    "            problemIndex = 8\n",
    "        case 'SPF' :\n",
    "            problemIndex = 9\n",
    "        case 'Serum na noc':\n",
    "            problemIndex = 10\n",
    "        case 'Krem na noc':\n",
    "            problemIndex = 11\n",
    "        case 'Punktowo':\n",
    "            problemIndex = 12\n",
    "        case 'Maseczka':\n",
    "            problemIndex = 13\n",
    "        case 'Peeling':\n",
    "            problemIndex = 14\n",
    "        case _:\n",
    "            raise ValueError(\"Nie rozpoznano kategorii produktu.\")\n",
    "\n",
    "    X = dumDf.values[:, 1:6]\n",
    "    yProblem = dataset.values[:, problemIndex]\n",
    "    X_train, X_test, y_train, y_test = train_test_split(X, yProblem, test_size = 0.25, random_state = 100)\n",
    "    model = defineModel(modelName)\n",
    "\n",
    "    if criterion != None and maxDepth != None and maxFeatures == None and nEstimators == None:\n",
    "        model.criterion = criterion\n",
    "        model.max_depth = maxDepth\n",
    "\n",
    "    if nn != None:\n",
    "        model.n_neighbors = nn \n",
    "\n",
    "    if C != None and penalty != None:\n",
    "        model.C = C\n",
    "        model.penalty = penalty \n",
    "    \n",
    "    if criterion != None and maxDepth != None and maxFeatures != None and nEstimators != None:\n",
    "        model.criterion = criterion\n",
    "        model.max_depth = maxDepth\n",
    "        model.max_features = maxFeatures\n",
    "        model.n_estimators = nEstimators\n",
    "    \n",
    "    model = model.fit(X_train, y_train)\n",
    "    yPrediction = model.predict(X_test)\n",
    "    accuracy[problemName] = str(accuracy_score(y_test, yPrediction)*100) # \"{} - Accuracy : {}\".format(problem_name,accuracy_score(y_test, y_pred)*100)\n",
    "   \n",
    "    return model"
   ]
  },
  {
   "cell_type": "code",
   "execution_count": 21,
   "metadata": {},
   "outputs": [],
   "source": [
    "def tuneTreeModel(labeledData):\n",
    "    for problem in decisionColumnNames:\n",
    "        X = labeledData.values[:, 1:6]\n",
    "        problemIndex = getProblemColumnIndex(problem)\n",
    "        yProblem = dataset.values[:, problemIndex]    \n",
    "\n",
    "        decisionTree = DecisionTreeClassifier()\n",
    "\n",
    "        scaler = StandardScaler()\n",
    "        pca = decomposition.PCA()\n",
    "        pipe = Pipeline(steps=[('std_slc', scaler),\n",
    "                                ('pca', pca),\n",
    "                                ('dec_tree', decisionTree)])\n",
    "        n_components = list(range(1,X.shape[1]+1,1))\n",
    "        bestCriterion = ['gini', 'entropy']\n",
    "        max_depth = [2,4,6,8,10,12]\n",
    "\n",
    "        parameters = dict(pca__n_components=n_components,\n",
    "                            dec_tree__criterion=bestCriterion,\n",
    "                            dec_tree__max_depth=max_depth)\n",
    "        clf_GS = GridSearchCV(pipe, parameters)\n",
    "        clf_GS.fit(X, yProblem)\n",
    "\n",
    "        bestCriterion = clf_GS.best_estimator_.get_params()['dec_tree__criterion']\n",
    "        bestDepth = clf_GS.best_estimator_.get_params()['dec_tree__max_depth']\n",
    "\n",
    "        problemModel = makeSingleProblemModel(problem, labeledData, dataset, maxDepth=bestDepth, criterion=bestCriterion, modelName='DecisionTreeClassifier')"
   ]
  },
  {
   "cell_type": "code",
   "execution_count": 16,
   "metadata": {},
   "outputs": [],
   "source": [
    "def tuneKNN(labeledData):\n",
    "    for problem in decisionColumnNames:\n",
    "        X = labeledData.values[:, 1:6]\n",
    "        problemIndex = getProblemColumnIndex(problem)\n",
    "        yProblem = dataset.values[:, problemIndex]    \n",
    "\n",
    "        knn = KNeighborsClassifier(n_neighbors=5)\n",
    "\n",
    "        k_range = list(range(5, 31))\n",
    "        parameters = dict(n_neighbors=k_range)\n",
    "        grid = GridSearchCV(knn, parameters)\n",
    "        grid.fit(X, yProblem)\n",
    "\n",
    "        bestParam = grid.best_params_['n_neighbors']\n",
    "\n",
    "        problemModel = makeSingleProblemModel(problem, labeledData, dataset, nn=bestParam, modelName='KNeighborsClassifier')"
   ]
  },
  {
   "cell_type": "code",
   "execution_count": 32,
   "metadata": {},
   "outputs": [],
   "source": [
    "def tuneLogisticRegression(labeledData):\n",
    "    for problem in decisionColumnNames:\n",
    "        X = labeledData.values[:, 1:6]\n",
    "        problemIndex = getProblemColumnIndex(problem)\n",
    "        yProblem = dataset.values[:, problemIndex]    \n",
    "\n",
    "        parameters = {\"C\":np.logspace(-3,3,7), \"penalty\":[\"l1\",\"l2\"]}\n",
    "        logisiticRegression = LogisticRegression() \n",
    "        grid=GridSearchCV(logisiticRegression, parameters)\n",
    "        grid.fit(X, yProblem)\n",
    "\n",
    "        bestC = grid.best_params_['C']\n",
    "        bestPenalty = grid.best_params_['penalty']\n",
    "\n",
    "        problemModel = makeSingleProblemModel(problem, labeledData, dataset, C = bestC, penalty=bestPenalty, modelName='LogisticRegression')"
   ]
  },
  {
   "cell_type": "code",
   "execution_count": 44,
   "metadata": {},
   "outputs": [],
   "source": [
    "def tuneRandomForest(labeledData):\n",
    "    for problem in decisionColumnNames:\n",
    "        X = labeledData.values[:, 1:6]\n",
    "        problemIndex = getProblemColumnIndex(problem)\n",
    "        yProblem = dataset.values[:, problemIndex] \n",
    "\n",
    "\n",
    "        param_grid = { \n",
    "        'n_estimators': [10, 100],\n",
    "        'max_features': ['auto', 'sqrt', 'log2'],\n",
    "        'max_depth' : [4,5,6,7,8],\n",
    "        'criterion' :['gini', 'entropy']\n",
    "        }\n",
    "        rfc = RandomForestClassifier()\n",
    "        CV_rfc = GridSearchCV(estimator=rfc, param_grid=param_grid, cv= 5)\n",
    "        CV_rfc.fit(X, yProblem)\n",
    "        CV_rfc.best_params_\n",
    "\n",
    "        bestCriterion = CV_rfc.best_params_['criterion']\n",
    "        bestMaxDepth = CV_rfc.best_params_['max_depth']\n",
    "        bestMaxFeatures = CV_rfc.best_params_['max_features']\n",
    "        bestNEstimators = CV_rfc.best_params_['n_estimators']\n",
    "\n",
    "\n",
    "        print(\"criterion=\" + str(bestCriterion))\n",
    "        print(\"bestMaxDepth=\"+ str(bestMaxDepth))\n",
    "        print(\"bestMaxFeatures=\"+ str(bestMaxDepth))\n",
    "        print(\"bestNEstimators=\"+ str(bestNEstimators))\n",
    "\n",
    "        problemModel = makeSingleProblemModel(problem, labeledData, dataset, \n",
    "                                                maxDepth=bestMaxDepth,\n",
    "                                                criterion=bestCriterion,\n",
    "                                                maxFeatures=bestMaxFeatures,\n",
    "                                                nEstimators=bestNEstimators,\n",
    "                                                modelName='RandomForestClassifier')"
   ]
  },
  {
   "cell_type": "code",
   "execution_count": 22,
   "metadata": {},
   "outputs": [
    {
     "ename": "ValueError",
     "evalue": "X has 2 features, but DecisionTreeClassifier is expecting 5 features as input.",
     "output_type": "error",
     "traceback": [
      "\u001b[1;31m---------------------------------------------------------------------------\u001b[0m",
      "\u001b[1;31mValueError\u001b[0m                                Traceback (most recent call last)",
      "\u001b[1;32mc:\\Users\\CEM\\Desktop\\All\\PJATK\\INZYNIERKA\\repo\\skinCare\\Model_validation_s20943.ipynb Cell 19\u001b[0m in \u001b[0;36m<cell line: 1>\u001b[1;34m()\u001b[0m\n\u001b[1;32m----> <a href='vscode-notebook-cell:/c%3A/Users/CEM/Desktop/All/PJATK/INZYNIERKA/repo/skinCare/Model_validation_s20943.ipynb#X22sZmlsZQ%3D%3D?line=0'>1</a>\u001b[0m tuneTreeModel(labeledDataset)\n\u001b[0;32m      <a href='vscode-notebook-cell:/c%3A/Users/CEM/Desktop/All/PJATK/INZYNIERKA/repo/skinCare/Model_validation_s20943.ipynb#X22sZmlsZQ%3D%3D?line=1'>2</a>\u001b[0m accuracy\n",
      "\u001b[1;32mc:\\Users\\CEM\\Desktop\\All\\PJATK\\INZYNIERKA\\repo\\skinCare\\Model_validation_s20943.ipynb Cell 19\u001b[0m in \u001b[0;36mtuneTreeModel\u001b[1;34m(labeledData)\u001b[0m\n\u001b[0;32m     <a href='vscode-notebook-cell:/c%3A/Users/CEM/Desktop/All/PJATK/INZYNIERKA/repo/skinCare/Model_validation_s20943.ipynb#X22sZmlsZQ%3D%3D?line=27'>28</a>\u001b[0m criterion \u001b[39m=\u001b[39m clf_GS\u001b[39m.\u001b[39mbest_estimator_\u001b[39m.\u001b[39mget_params()[\u001b[39m'\u001b[39m\u001b[39mdec_tree__criterion\u001b[39m\u001b[39m'\u001b[39m]\n\u001b[0;32m     <a href='vscode-notebook-cell:/c%3A/Users/CEM/Desktop/All/PJATK/INZYNIERKA/repo/skinCare/Model_validation_s20943.ipynb#X22sZmlsZQ%3D%3D?line=28'>29</a>\u001b[0m bestDepth \u001b[39m=\u001b[39m clf_GS\u001b[39m.\u001b[39mbest_estimator_\u001b[39m.\u001b[39mget_params()[\u001b[39m'\u001b[39m\u001b[39mdec_tree__max_depth\u001b[39m\u001b[39m'\u001b[39m]\n\u001b[1;32m---> <a href='vscode-notebook-cell:/c%3A/Users/CEM/Desktop/All/PJATK/INZYNIERKA/repo/skinCare/Model_validation_s20943.ipynb#X22sZmlsZQ%3D%3D?line=30'>31</a>\u001b[0m problemModel \u001b[39m=\u001b[39m makeSingleProblemModel(problem, labeledData, dataset, maxDepth\u001b[39m=\u001b[39;49mbestDepth, criterion\u001b[39m=\u001b[39;49mcriterion, modelName\u001b[39m=\u001b[39;49m\u001b[39m'\u001b[39;49m\u001b[39mDecisionTreeClassifier\u001b[39;49m\u001b[39m'\u001b[39;49m)\n",
      "\u001b[1;32mc:\\Users\\CEM\\Desktop\\All\\PJATK\\INZYNIERKA\\repo\\skinCare\\Model_validation_s20943.ipynb Cell 19\u001b[0m in \u001b[0;36mmakeSingleProblemModel\u001b[1;34m(problemName, dumDf, dataset, modelName, maxDepth, criterion, maxFeatures, nEstimators, nn, C, penalty)\u001b[0m\n\u001b[0;32m     <a href='vscode-notebook-cell:/c%3A/Users/CEM/Desktop/All/PJATK/INZYNIERKA/repo/skinCare/Model_validation_s20943.ipynb#X22sZmlsZQ%3D%3D?line=49'>50</a>\u001b[0m accuracy[problemName] \u001b[39m=\u001b[39m \u001b[39mstr\u001b[39m(accuracy_score(y_test, yPrediction)\u001b[39m*\u001b[39m\u001b[39m100\u001b[39m) \u001b[39m# \"{} - Accuracy : {}\".format(problem_name,accuracy_score(y_test, y_pred)*100)\u001b[39;00m\n\u001b[0;32m     <a href='vscode-notebook-cell:/c%3A/Users/CEM/Desktop/All/PJATK/INZYNIERKA/repo/skinCare/Model_validation_s20943.ipynb#X22sZmlsZQ%3D%3D?line=51'>52</a>\u001b[0m \u001b[39mif\u001b[39;00m criterion \u001b[39m!=\u001b[39m \u001b[39mNone\u001b[39;00m \u001b[39mand\u001b[39;00m maxDepth \u001b[39m!=\u001b[39m \u001b[39mNone\u001b[39;00m \u001b[39mand\u001b[39;00m maxFeatures \u001b[39m==\u001b[39m \u001b[39mNone\u001b[39;00m \u001b[39mand\u001b[39;00m nEstimators \u001b[39m==\u001b[39m \u001b[39mNone\u001b[39;00m:\n\u001b[1;32m---> <a href='vscode-notebook-cell:/c%3A/Users/CEM/Desktop/All/PJATK/INZYNIERKA/repo/skinCare/Model_validation_s20943.ipynb#X22sZmlsZQ%3D%3D?line=52'>53</a>\u001b[0m     showTreeColorMap(X, yProblem, model)\n\u001b[0;32m     <a href='vscode-notebook-cell:/c%3A/Users/CEM/Desktop/All/PJATK/INZYNIERKA/repo/skinCare/Model_validation_s20943.ipynb#X22sZmlsZQ%3D%3D?line=54'>55</a>\u001b[0m \u001b[39mreturn\u001b[39;00m model\n",
      "\u001b[1;32mc:\\Users\\CEM\\Desktop\\All\\PJATK\\INZYNIERKA\\repo\\skinCare\\Model_validation_s20943.ipynb Cell 19\u001b[0m in \u001b[0;36mshowTreeColorMap\u001b[1;34m(x_train, y_train, classifier)\u001b[0m\n\u001b[0;32m      <a href='vscode-notebook-cell:/c%3A/Users/CEM/Desktop/All/PJATK/INZYNIERKA/repo/skinCare/Model_validation_s20943.ipynb#X22sZmlsZQ%3D%3D?line=2'>3</a>\u001b[0m x_set, y_set \u001b[39m=\u001b[39m x_train, y_train  \n\u001b[0;32m      <a href='vscode-notebook-cell:/c%3A/Users/CEM/Desktop/All/PJATK/INZYNIERKA/repo/skinCare/Model_validation_s20943.ipynb#X22sZmlsZQ%3D%3D?line=3'>4</a>\u001b[0m x1, x2 \u001b[39m=\u001b[39m np\u001b[39m.\u001b[39mmeshgrid(np\u001b[39m.\u001b[39marange(start \u001b[39m=\u001b[39m x_set[:, \u001b[39m0\u001b[39m]\u001b[39m.\u001b[39mmin() \u001b[39m-\u001b[39m \u001b[39m1\u001b[39m, stop \u001b[39m=\u001b[39m x_set[:, \u001b[39m0\u001b[39m]\u001b[39m.\u001b[39mmax() \u001b[39m+\u001b[39m \u001b[39m1\u001b[39m, step  \u001b[39m=\u001b[39m\u001b[39m0.01\u001b[39m),  \n\u001b[0;32m      <a href='vscode-notebook-cell:/c%3A/Users/CEM/Desktop/All/PJATK/INZYNIERKA/repo/skinCare/Model_validation_s20943.ipynb#X22sZmlsZQ%3D%3D?line=4'>5</a>\u001b[0m np\u001b[39m.\u001b[39marange(start \u001b[39m=\u001b[39m x_set[:, \u001b[39m1\u001b[39m]\u001b[39m.\u001b[39mmin() \u001b[39m-\u001b[39m \u001b[39m1\u001b[39m, stop \u001b[39m=\u001b[39m x_set[:, \u001b[39m1\u001b[39m]\u001b[39m.\u001b[39mmax() \u001b[39m+\u001b[39m \u001b[39m1\u001b[39m, step \u001b[39m=\u001b[39m \u001b[39m0.01\u001b[39m))  \n\u001b[1;32m----> <a href='vscode-notebook-cell:/c%3A/Users/CEM/Desktop/All/PJATK/INZYNIERKA/repo/skinCare/Model_validation_s20943.ipynb#X22sZmlsZQ%3D%3D?line=5'>6</a>\u001b[0m mtp\u001b[39m.\u001b[39mcontourf(x1, x2, classifier\u001b[39m.\u001b[39;49mpredict(np\u001b[39m.\u001b[39;49marray([x1\u001b[39m.\u001b[39;49mravel(), x2\u001b[39m.\u001b[39;49mravel()])\u001b[39m.\u001b[39;49mT)\u001b[39m.\u001b[39mreshape(x1\u001b[39m.\u001b[39mshape),  \n\u001b[0;32m      <a href='vscode-notebook-cell:/c%3A/Users/CEM/Desktop/All/PJATK/INZYNIERKA/repo/skinCare/Model_validation_s20943.ipynb#X22sZmlsZQ%3D%3D?line=6'>7</a>\u001b[0m alpha \u001b[39m=\u001b[39m \u001b[39m0.75\u001b[39m, cmap \u001b[39m=\u001b[39m ListedColormap((\u001b[39m'\u001b[39m\u001b[39mpurple\u001b[39m\u001b[39m'\u001b[39m,\u001b[39m'\u001b[39m\u001b[39mgreen\u001b[39m\u001b[39m'\u001b[39m )))  \n\u001b[0;32m      <a href='vscode-notebook-cell:/c%3A/Users/CEM/Desktop/All/PJATK/INZYNIERKA/repo/skinCare/Model_validation_s20943.ipynb#X22sZmlsZQ%3D%3D?line=7'>8</a>\u001b[0m mtp\u001b[39m.\u001b[39mxlim(x1\u001b[39m.\u001b[39mmin(), x1\u001b[39m.\u001b[39mmax())  \n\u001b[0;32m      <a href='vscode-notebook-cell:/c%3A/Users/CEM/Desktop/All/PJATK/INZYNIERKA/repo/skinCare/Model_validation_s20943.ipynb#X22sZmlsZQ%3D%3D?line=8'>9</a>\u001b[0m mtp\u001b[39m.\u001b[39mylim(x2\u001b[39m.\u001b[39mmin(), x2\u001b[39m.\u001b[39mmax())  \n",
      "File \u001b[1;32mc:\\Users\\CEM\\AppData\\Local\\Programs\\Python\\Python310\\lib\\site-packages\\sklearn\\tree\\_classes.py:505\u001b[0m, in \u001b[0;36mBaseDecisionTree.predict\u001b[1;34m(self, X, check_input)\u001b[0m\n\u001b[0;32m    482\u001b[0m \u001b[39m\"\"\"Predict class or regression value for X.\u001b[39;00m\n\u001b[0;32m    483\u001b[0m \n\u001b[0;32m    484\u001b[0m \u001b[39mFor a classification model, the predicted class for each sample in X is\u001b[39;00m\n\u001b[1;32m   (...)\u001b[0m\n\u001b[0;32m    502\u001b[0m \u001b[39m    The predicted classes, or the predict values.\u001b[39;00m\n\u001b[0;32m    503\u001b[0m \u001b[39m\"\"\"\u001b[39;00m\n\u001b[0;32m    504\u001b[0m check_is_fitted(\u001b[39mself\u001b[39m)\n\u001b[1;32m--> 505\u001b[0m X \u001b[39m=\u001b[39m \u001b[39mself\u001b[39;49m\u001b[39m.\u001b[39;49m_validate_X_predict(X, check_input)\n\u001b[0;32m    506\u001b[0m proba \u001b[39m=\u001b[39m \u001b[39mself\u001b[39m\u001b[39m.\u001b[39mtree_\u001b[39m.\u001b[39mpredict(X)\n\u001b[0;32m    507\u001b[0m n_samples \u001b[39m=\u001b[39m X\u001b[39m.\u001b[39mshape[\u001b[39m0\u001b[39m]\n",
      "File \u001b[1;32mc:\\Users\\CEM\\AppData\\Local\\Programs\\Python\\Python310\\lib\\site-packages\\sklearn\\tree\\_classes.py:471\u001b[0m, in \u001b[0;36mBaseDecisionTree._validate_X_predict\u001b[1;34m(self, X, check_input)\u001b[0m\n\u001b[0;32m    469\u001b[0m \u001b[39m\"\"\"Validate the training data on predict (probabilities).\"\"\"\u001b[39;00m\n\u001b[0;32m    470\u001b[0m \u001b[39mif\u001b[39;00m check_input:\n\u001b[1;32m--> 471\u001b[0m     X \u001b[39m=\u001b[39m \u001b[39mself\u001b[39;49m\u001b[39m.\u001b[39;49m_validate_data(X, dtype\u001b[39m=\u001b[39;49mDTYPE, accept_sparse\u001b[39m=\u001b[39;49m\u001b[39m\"\u001b[39;49m\u001b[39mcsr\u001b[39;49m\u001b[39m\"\u001b[39;49m, reset\u001b[39m=\u001b[39;49m\u001b[39mFalse\u001b[39;49;00m)\n\u001b[0;32m    472\u001b[0m     \u001b[39mif\u001b[39;00m issparse(X) \u001b[39mand\u001b[39;00m (\n\u001b[0;32m    473\u001b[0m         X\u001b[39m.\u001b[39mindices\u001b[39m.\u001b[39mdtype \u001b[39m!=\u001b[39m np\u001b[39m.\u001b[39mintc \u001b[39mor\u001b[39;00m X\u001b[39m.\u001b[39mindptr\u001b[39m.\u001b[39mdtype \u001b[39m!=\u001b[39m np\u001b[39m.\u001b[39mintc\n\u001b[0;32m    474\u001b[0m     ):\n\u001b[0;32m    475\u001b[0m         \u001b[39mraise\u001b[39;00m \u001b[39mValueError\u001b[39;00m(\u001b[39m\"\u001b[39m\u001b[39mNo support for np.int64 index based sparse matrices\u001b[39m\u001b[39m\"\u001b[39m)\n",
      "File \u001b[1;32mc:\\Users\\CEM\\AppData\\Local\\Programs\\Python\\Python310\\lib\\site-packages\\sklearn\\base.py:600\u001b[0m, in \u001b[0;36mBaseEstimator._validate_data\u001b[1;34m(self, X, y, reset, validate_separately, **check_params)\u001b[0m\n\u001b[0;32m    597\u001b[0m     out \u001b[39m=\u001b[39m X, y\n\u001b[0;32m    599\u001b[0m \u001b[39mif\u001b[39;00m \u001b[39mnot\u001b[39;00m no_val_X \u001b[39mand\u001b[39;00m check_params\u001b[39m.\u001b[39mget(\u001b[39m\"\u001b[39m\u001b[39mensure_2d\u001b[39m\u001b[39m\"\u001b[39m, \u001b[39mTrue\u001b[39;00m):\n\u001b[1;32m--> 600\u001b[0m     \u001b[39mself\u001b[39;49m\u001b[39m.\u001b[39;49m_check_n_features(X, reset\u001b[39m=\u001b[39;49mreset)\n\u001b[0;32m    602\u001b[0m \u001b[39mreturn\u001b[39;00m out\n",
      "File \u001b[1;32mc:\\Users\\CEM\\AppData\\Local\\Programs\\Python\\Python310\\lib\\site-packages\\sklearn\\base.py:400\u001b[0m, in \u001b[0;36mBaseEstimator._check_n_features\u001b[1;34m(self, X, reset)\u001b[0m\n\u001b[0;32m    397\u001b[0m     \u001b[39mreturn\u001b[39;00m\n\u001b[0;32m    399\u001b[0m \u001b[39mif\u001b[39;00m n_features \u001b[39m!=\u001b[39m \u001b[39mself\u001b[39m\u001b[39m.\u001b[39mn_features_in_:\n\u001b[1;32m--> 400\u001b[0m     \u001b[39mraise\u001b[39;00m \u001b[39mValueError\u001b[39;00m(\n\u001b[0;32m    401\u001b[0m         \u001b[39mf\u001b[39m\u001b[39m\"\u001b[39m\u001b[39mX has \u001b[39m\u001b[39m{\u001b[39;00mn_features\u001b[39m}\u001b[39;00m\u001b[39m features, but \u001b[39m\u001b[39m{\u001b[39;00m\u001b[39mself\u001b[39m\u001b[39m.\u001b[39m\u001b[39m__class__\u001b[39m\u001b[39m.\u001b[39m\u001b[39m__name__\u001b[39m\u001b[39m}\u001b[39;00m\u001b[39m \u001b[39m\u001b[39m\"\u001b[39m\n\u001b[0;32m    402\u001b[0m         \u001b[39mf\u001b[39m\u001b[39m\"\u001b[39m\u001b[39mis expecting \u001b[39m\u001b[39m{\u001b[39;00m\u001b[39mself\u001b[39m\u001b[39m.\u001b[39mn_features_in_\u001b[39m}\u001b[39;00m\u001b[39m features as input.\u001b[39m\u001b[39m\"\u001b[39m\n\u001b[0;32m    403\u001b[0m     )\n",
      "\u001b[1;31mValueError\u001b[0m: X has 2 features, but DecisionTreeClassifier is expecting 5 features as input."
     ]
    }
   ],
   "source": [
    "tuneTreeModel(labeledDataset)\n",
    "accuracy"
   ]
  },
  {
   "cell_type": "code",
   "execution_count": 17,
   "metadata": {},
   "outputs": [
    {
     "data": {
      "text/plain": [
       "{'Mycie': '48.717948717948715',\n",
       " 'Serum na dzień': '79.48717948717949',\n",
       " 'Krem na dzień': '43.58974358974359',\n",
       " 'SPF': '48.717948717948715',\n",
       " 'Serum na noc': '23.076923076923077',\n",
       " 'Krem na noc': '48.717948717948715',\n",
       " 'Punktowo': '51.28205128205128',\n",
       " 'Maseczka': '35.8974358974359',\n",
       " 'Peeling': '66.66666666666666'}"
      ]
     },
     "execution_count": 17,
     "metadata": {},
     "output_type": "execute_result"
    }
   ],
   "source": [
    "tuneKNN(labeledDataset)\n",
    "accuracy"
   ]
  },
  {
   "cell_type": "code",
   "execution_count": 36,
   "metadata": {},
   "outputs": [
    {
     "name": "stdout",
     "output_type": "stream",
     "text": [
      "C=100.0\n",
      "penalty=l2\n",
      "C=100.0\n",
      "penalty=l2\n",
      "C=1.0\n",
      "penalty=l2\n",
      "C=10.0\n",
      "penalty=l2\n",
      "C=0.01\n",
      "penalty=l2\n",
      "C=0.1\n",
      "penalty=l2\n",
      "C=10.0\n",
      "penalty=l2\n",
      "C=100.0\n",
      "penalty=l2\n",
      "C=1.0\n",
      "penalty=l2\n"
     ]
    },
    {
     "data": {
      "text/plain": [
       "{'Mycie': '38.46153846153847',\n",
       " 'Serum na dzień': '84.61538461538461',\n",
       " 'Krem na dzień': '48.717948717948715',\n",
       " 'SPF': '43.58974358974359',\n",
       " 'Serum na noc': '25.64102564102564',\n",
       " 'Krem na noc': '46.15384615384615',\n",
       " 'Punktowo': '56.41025641025641',\n",
       " 'Maseczka': '38.46153846153847',\n",
       " 'Peeling': '53.84615384615385'}"
      ]
     },
     "execution_count": 36,
     "metadata": {},
     "output_type": "execute_result"
    }
   ],
   "source": [
    "tuneLogisticRegression(labeledDataset)\n",
    "accuracy"
   ]
  },
  {
   "cell_type": "code",
   "execution_count": 45,
   "metadata": {},
   "outputs": [
    {
     "name": "stdout",
     "output_type": "stream",
     "text": [
      "criterion=gini\n",
      "bestMaxDepth=8\n",
      "bestMaxFeatures=8\n",
      "bestNEstimators=10\n",
      "criterion=gini\n",
      "bestMaxDepth=5\n",
      "bestMaxFeatures=5\n",
      "bestNEstimators=100\n",
      "criterion=entropy\n",
      "bestMaxDepth=5\n",
      "bestMaxFeatures=5\n",
      "bestNEstimators=10\n",
      "criterion=entropy\n",
      "bestMaxDepth=5\n",
      "bestMaxFeatures=5\n",
      "bestNEstimators=10\n",
      "criterion=gini\n",
      "bestMaxDepth=8\n",
      "bestMaxFeatures=8\n",
      "bestNEstimators=100\n",
      "criterion=entropy\n",
      "bestMaxDepth=5\n",
      "bestMaxFeatures=5\n",
      "bestNEstimators=100\n",
      "criterion=gini\n",
      "bestMaxDepth=4\n",
      "bestMaxFeatures=4\n",
      "bestNEstimators=10\n",
      "criterion=entropy\n",
      "bestMaxDepth=5\n",
      "bestMaxFeatures=5\n",
      "bestNEstimators=100\n",
      "criterion=gini\n",
      "bestMaxDepth=8\n",
      "bestMaxFeatures=8\n",
      "bestNEstimators=10\n"
     ]
    },
    {
     "data": {
      "text/plain": [
       "{'Mycie': '66.66666666666666',\n",
       " 'Serum na dzień': '92.3076923076923',\n",
       " 'Krem na dzień': '58.97435897435898',\n",
       " 'SPF': '64.1025641025641',\n",
       " 'Serum na noc': '51.28205128205128',\n",
       " 'Krem na noc': '56.41025641025641',\n",
       " 'Punktowo': '53.84615384615385',\n",
       " 'Maseczka': '56.41025641025641',\n",
       " 'Peeling': '84.61538461538461'}"
      ]
     },
     "execution_count": 45,
     "metadata": {},
     "output_type": "execute_result"
    }
   ],
   "source": [
    "tuneRandomForest(labeledDataset)\n",
    "accuracy"
   ]
  }
 ],
 "metadata": {
  "kernelspec": {
   "display_name": "Python 3.10.4 64-bit",
   "language": "python",
   "name": "python3"
  },
  "language_info": {
   "codemirror_mode": {
    "name": "ipython",
    "version": 3
   },
   "file_extension": ".py",
   "mimetype": "text/x-python",
   "name": "python",
   "nbconvert_exporter": "python",
   "pygments_lexer": "ipython3",
   "version": "3.10.4"
  },
  "orig_nbformat": 4,
  "vscode": {
   "interpreter": {
    "hash": "bf4ad97330bae9eef050a57e98f152bc4c5a90968c1b3f9a5e3e5e8c43c709a9"
   }
  }
 },
 "nbformat": 4,
 "nbformat_minor": 2
}
