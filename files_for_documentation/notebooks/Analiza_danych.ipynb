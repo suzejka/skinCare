{
 "cells": [
  {
   "cell_type": "code",
   "execution_count": 6,
   "id": "3b6abaef",
   "metadata": {},
   "outputs": [],
   "source": [
    "import pandas as pd\n",
    "import matplotlib.pyplot as plt\n",
    "import seaborn as sn\n",
    "import numpy as np"
   ]
  },
  {
   "cell_type": "code",
   "execution_count": 7,
   "id": "9ef700a0",
   "metadata": {},
   "outputs": [],
   "source": [
    "dataset_raw = pd.read_csv(\"../../raw_data/daneSkinCare.csv\")\n",
    "dataset = pd.read_csv(\"../../prepared_data/DATASET.csv\", encoding='utf-16')\n",
    "labeled_data = pd.read_csv(\"../../prepared_data/labeledDataset.csv\")\n",
    "products = pd.read_csv(\"../../raw_data/products.csv\", sep=';')"
   ]
  },
  {
   "cell_type": "code",
   "execution_count": 8,
   "id": "09aa74f1",
   "metadata": {},
   "outputs": [
    {
     "data": {
      "text/html": [
       "<div>\n",
       "<style scoped>\n",
       "    .dataframe tbody tr th:only-of-type {\n",
       "        vertical-align: middle;\n",
       "    }\n",
       "\n",
       "    .dataframe tbody tr th {\n",
       "        vertical-align: top;\n",
       "    }\n",
       "\n",
       "    .dataframe thead th {\n",
       "        text-align: right;\n",
       "    }\n",
       "</style>\n",
       "<table border=\"1\" class=\"dataframe\">\n",
       "  <thead>\n",
       "    <tr style=\"text-align: right;\">\n",
       "      <th></th>\n",
       "      <th>Typ cery</th>\n",
       "      <th>Wrażliwa</th>\n",
       "      <th>Główny problem</th>\n",
       "      <th>Poboczny problem</th>\n",
       "      <th>Wiek</th>\n",
       "      <th>Mycie</th>\n",
       "      <th>Serum na dzień</th>\n",
       "      <th>Krem na dzień</th>\n",
       "      <th>SPF</th>\n",
       "      <th>Serum na noc</th>\n",
       "      <th>Krem na noc</th>\n",
       "      <th>Punktowo</th>\n",
       "      <th>Maseczka</th>\n",
       "      <th>Peeling</th>\n",
       "    </tr>\n",
       "  </thead>\n",
       "  <tbody>\n",
       "    <tr>\n",
       "      <th>0</th>\n",
       "      <td>Tlusta</td>\n",
       "      <td>0</td>\n",
       "      <td>Nadprodukcja sebum</td>\n",
       "      <td>Niedoskonałości</td>\n",
       "      <td>17</td>\n",
       "      <td>Neutrogena Visibly Clear Clear &amp; Defend Facial...</td>\n",
       "      <td>Revox Just Niacinamide 10%</td>\n",
       "      <td>Tołpa - Authentic - Krem Matowa Skóra</td>\n",
       "      <td>SVR Sebiaclear Creme SPF 50</td>\n",
       "      <td>Eveline Cosmetics Beauty &amp; Glow Matujące Serum...</td>\n",
       "      <td>SVR Sebiaclear Hydra</td>\n",
       "      <td>Bandi - Sebo Care - Pasta Punktowa na Niedosko...</td>\n",
       "      <td>Nacomi Next Lvl Kwas Salicylowy 2% + Nature Qu...</td>\n",
       "      <td>Brak</td>\n",
       "    </tr>\n",
       "    <tr>\n",
       "      <th>1</th>\n",
       "      <td>Mieszana</td>\n",
       "      <td>1</td>\n",
       "      <td>Nadprodukcja sebum</td>\n",
       "      <td>Niedoskonałości</td>\n",
       "      <td>20</td>\n",
       "      <td>Pharmaceris T Puri-Sebogel - antybakteryjny że...</td>\n",
       "      <td>Revox Just Niacinamide 10%</td>\n",
       "      <td>Bandi Medical Expert Anti Dry Emulsja silnie n...</td>\n",
       "      <td>Missha - All-Around Safe Block Aqua Sun Gel SP...</td>\n",
       "      <td>The Ordinary - Niacinamide 10% + Zinc 1% - Ser...</td>\n",
       "      <td>SVR Sebiaclear Hydra</td>\n",
       "      <td>Bandi - Sebo Care - Pasta Punktowa na Niedosko...</td>\n",
       "      <td>Nacomi Next Lvl Kwas Salicylowy 2% + Nacomi Bi...</td>\n",
       "      <td>BANDI ANTI ACNE antytrądzikowy peeling kwasowy...</td>\n",
       "    </tr>\n",
       "    <tr>\n",
       "      <th>2</th>\n",
       "      <td>Mieszana</td>\n",
       "      <td>1</td>\n",
       "      <td>Nadprodukcja sebum</td>\n",
       "      <td>Niedoskonałości</td>\n",
       "      <td>20</td>\n",
       "      <td>Pharmaceris T Puri-Sebogel - antybakteryjny że...</td>\n",
       "      <td>Revox Just Niacinamide 10%</td>\n",
       "      <td>Cetaphil - Pro Oil Control SPF30 - Krem Nawilż...</td>\n",
       "      <td>Missha - All-Around Safe Block Aqua Sun Gel SP...</td>\n",
       "      <td>The Ordinary - Niacinamide 10% + Zinc 1% - Ser...</td>\n",
       "      <td>Dermedic Melumin</td>\n",
       "      <td>Bandi - Sebo Care - Pasta Punktowa na Niedosko...</td>\n",
       "      <td>Nacomi Next Lvl Kwas Salicylowy 2% + Nacomi Bi...</td>\n",
       "      <td>BANDI ANTI ACNE antytrądzikowy peeling kwasowy...</td>\n",
       "    </tr>\n",
       "  </tbody>\n",
       "</table>\n",
       "</div>"
      ],
      "text/plain": [
       "   Typ cery  Wrażliwa      Główny problem Poboczny problem  Wiek  \\\n",
       "0    Tlusta         0  Nadprodukcja sebum  Niedoskonałości    17   \n",
       "1  Mieszana         1  Nadprodukcja sebum  Niedoskonałości    20   \n",
       "2  Mieszana         1  Nadprodukcja sebum  Niedoskonałości    20   \n",
       "\n",
       "                                               Mycie  \\\n",
       "0  Neutrogena Visibly Clear Clear & Defend Facial...   \n",
       "1  Pharmaceris T Puri-Sebogel - antybakteryjny że...   \n",
       "2  Pharmaceris T Puri-Sebogel - antybakteryjny że...   \n",
       "\n",
       "               Serum na dzień  \\\n",
       "0  Revox Just Niacinamide 10%   \n",
       "1  Revox Just Niacinamide 10%   \n",
       "2  Revox Just Niacinamide 10%   \n",
       "\n",
       "                                       Krem na dzień  \\\n",
       "0              Tołpa - Authentic - Krem Matowa Skóra   \n",
       "1  Bandi Medical Expert Anti Dry Emulsja silnie n...   \n",
       "2  Cetaphil - Pro Oil Control SPF30 - Krem Nawilż...   \n",
       "\n",
       "                                                 SPF  \\\n",
       "0                        SVR Sebiaclear Creme SPF 50   \n",
       "1  Missha - All-Around Safe Block Aqua Sun Gel SP...   \n",
       "2  Missha - All-Around Safe Block Aqua Sun Gel SP...   \n",
       "\n",
       "                                        Serum na noc           Krem na noc  \\\n",
       "0  Eveline Cosmetics Beauty & Glow Matujące Serum...  SVR Sebiaclear Hydra   \n",
       "1  The Ordinary - Niacinamide 10% + Zinc 1% - Ser...  SVR Sebiaclear Hydra   \n",
       "2  The Ordinary - Niacinamide 10% + Zinc 1% - Ser...      Dermedic Melumin   \n",
       "\n",
       "                                            Punktowo  \\\n",
       "0  Bandi - Sebo Care - Pasta Punktowa na Niedosko...   \n",
       "1  Bandi - Sebo Care - Pasta Punktowa na Niedosko...   \n",
       "2  Bandi - Sebo Care - Pasta Punktowa na Niedosko...   \n",
       "\n",
       "                                            Maseczka  \\\n",
       "0  Nacomi Next Lvl Kwas Salicylowy 2% + Nature Qu...   \n",
       "1  Nacomi Next Lvl Kwas Salicylowy 2% + Nacomi Bi...   \n",
       "2  Nacomi Next Lvl Kwas Salicylowy 2% + Nacomi Bi...   \n",
       "\n",
       "                                             Peeling  \n",
       "0                                               Brak  \n",
       "1  BANDI ANTI ACNE antytrądzikowy peeling kwasowy...  \n",
       "2  BANDI ANTI ACNE antytrądzikowy peeling kwasowy...  "
      ]
     },
     "execution_count": 8,
     "metadata": {},
     "output_type": "execute_result"
    }
   ],
   "source": [
    "dataset_raw.head(3)"
   ]
  },
  {
   "cell_type": "code",
   "execution_count": 9,
   "id": "632b2cae",
   "metadata": {},
   "outputs": [
    {
     "data": {
      "text/html": [
       "<div>\n",
       "<style scoped>\n",
       "    .dataframe tbody tr th:only-of-type {\n",
       "        vertical-align: middle;\n",
       "    }\n",
       "\n",
       "    .dataframe tbody tr th {\n",
       "        vertical-align: top;\n",
       "    }\n",
       "\n",
       "    .dataframe thead th {\n",
       "        text-align: right;\n",
       "    }\n",
       "</style>\n",
       "<table border=\"1\" class=\"dataframe\">\n",
       "  <thead>\n",
       "    <tr style=\"text-align: right;\">\n",
       "      <th></th>\n",
       "      <th>Typ cery</th>\n",
       "      <th>Wrażliwa</th>\n",
       "      <th>Główny problem</th>\n",
       "      <th>Poboczny problem</th>\n",
       "      <th>Wiek</th>\n",
       "      <th>Mycie</th>\n",
       "      <th>Serum na dzień</th>\n",
       "      <th>Krem na dzień</th>\n",
       "      <th>SPF</th>\n",
       "      <th>Serum na noc</th>\n",
       "      <th>Krem na noc</th>\n",
       "      <th>Punktowo</th>\n",
       "      <th>Maseczka</th>\n",
       "      <th>Peeling</th>\n",
       "    </tr>\n",
       "  </thead>\n",
       "  <tbody>\n",
       "    <tr>\n",
       "      <th>0</th>\n",
       "      <td>Tłusta</td>\n",
       "      <td>0</td>\n",
       "      <td>Nadprodukcja sebum</td>\n",
       "      <td>Niedoskonałości</td>\n",
       "      <td>17</td>\n",
       "      <td>Neutrogena Visibly Clear Clear &amp; Defend Facial...</td>\n",
       "      <td>Revox Just Niacinamide 10%</td>\n",
       "      <td>Tołpa - Authentic - Krem Matowa Skóra</td>\n",
       "      <td>SVR Sebiaclear Creme SPF 50</td>\n",
       "      <td>Eveline Cosmetics Beauty &amp; Glow Matujące Serum...</td>\n",
       "      <td>SVR Sebiaclear Hydra</td>\n",
       "      <td>Bandi - Sebo Care - Pasta Punktowa na Niedosko...</td>\n",
       "      <td>Nacomi Next Lvl Kwas Salicylowy 2% + Nature Qu...</td>\n",
       "      <td>Brak</td>\n",
       "    </tr>\n",
       "    <tr>\n",
       "      <th>1</th>\n",
       "      <td>Mieszana</td>\n",
       "      <td>1</td>\n",
       "      <td>Nadprodukcja sebum</td>\n",
       "      <td>Niedoskonałości</td>\n",
       "      <td>20</td>\n",
       "      <td>Pharmaceris T Puri-Sebogel - antybakteryjny że...</td>\n",
       "      <td>Revox Just Niacinamide 10%</td>\n",
       "      <td>Bandi Medical Expert Anti Dry Emulsja silnie n...</td>\n",
       "      <td>Missha - All-Around Safe Block Aqua Sun Gel SP...</td>\n",
       "      <td>The Ordinary - Niacinamide 10% + Zinc 1% - Ser...</td>\n",
       "      <td>SVR Sebiaclear Hydra</td>\n",
       "      <td>Bandi - Sebo Care - Pasta Punktowa na Niedosko...</td>\n",
       "      <td>Nacomi Next Lvl Kwas Salicylowy 2% + Nacomi Bi...</td>\n",
       "      <td>BANDI ANTI ACNE antytrądzikowy peeling kwasowy...</td>\n",
       "    </tr>\n",
       "    <tr>\n",
       "      <th>2</th>\n",
       "      <td>Mieszana</td>\n",
       "      <td>1</td>\n",
       "      <td>Nadprodukcja sebum</td>\n",
       "      <td>Niedoskonałości</td>\n",
       "      <td>20</td>\n",
       "      <td>Pharmaceris T Puri-Sebogel - antybakteryjny że...</td>\n",
       "      <td>Revox Just Niacinamide 10%</td>\n",
       "      <td>Cetaphil - Pro Oil Control SPF30 - Krem Nawilż...</td>\n",
       "      <td>Missha - All-Around Safe Block Aqua Sun Gel SP...</td>\n",
       "      <td>The Ordinary - Niacinamide 10% + Zinc 1% - Ser...</td>\n",
       "      <td>Dermedic Melumin</td>\n",
       "      <td>Bandi - Sebo Care - Pasta Punktowa na Niedosko...</td>\n",
       "      <td>Nacomi Next Lvl Kwas Salicylowy 2% + Nacomi Bi...</td>\n",
       "      <td>BANDI ANTI ACNE antytrądzikowy peeling kwasowy...</td>\n",
       "    </tr>\n",
       "  </tbody>\n",
       "</table>\n",
       "</div>"
      ],
      "text/plain": [
       "   Typ cery  Wrażliwa      Główny problem Poboczny problem  Wiek  \\\n",
       "0    Tłusta         0  Nadprodukcja sebum  Niedoskonałości    17   \n",
       "1  Mieszana         1  Nadprodukcja sebum  Niedoskonałości    20   \n",
       "2  Mieszana         1  Nadprodukcja sebum  Niedoskonałości    20   \n",
       "\n",
       "                                               Mycie  \\\n",
       "0  Neutrogena Visibly Clear Clear & Defend Facial...   \n",
       "1  Pharmaceris T Puri-Sebogel - antybakteryjny że...   \n",
       "2  Pharmaceris T Puri-Sebogel - antybakteryjny że...   \n",
       "\n",
       "               Serum na dzień  \\\n",
       "0  Revox Just Niacinamide 10%   \n",
       "1  Revox Just Niacinamide 10%   \n",
       "2  Revox Just Niacinamide 10%   \n",
       "\n",
       "                                       Krem na dzień  \\\n",
       "0              Tołpa - Authentic - Krem Matowa Skóra   \n",
       "1  Bandi Medical Expert Anti Dry Emulsja silnie n...   \n",
       "2  Cetaphil - Pro Oil Control SPF30 - Krem Nawilż...   \n",
       "\n",
       "                                                 SPF  \\\n",
       "0                        SVR Sebiaclear Creme SPF 50   \n",
       "1  Missha - All-Around Safe Block Aqua Sun Gel SP...   \n",
       "2  Missha - All-Around Safe Block Aqua Sun Gel SP...   \n",
       "\n",
       "                                        Serum na noc           Krem na noc  \\\n",
       "0  Eveline Cosmetics Beauty & Glow Matujące Serum...  SVR Sebiaclear Hydra   \n",
       "1  The Ordinary - Niacinamide 10% + Zinc 1% - Ser...  SVR Sebiaclear Hydra   \n",
       "2  The Ordinary - Niacinamide 10% + Zinc 1% - Ser...      Dermedic Melumin   \n",
       "\n",
       "                                            Punktowo  \\\n",
       "0  Bandi - Sebo Care - Pasta Punktowa na Niedosko...   \n",
       "1  Bandi - Sebo Care - Pasta Punktowa na Niedosko...   \n",
       "2  Bandi - Sebo Care - Pasta Punktowa na Niedosko...   \n",
       "\n",
       "                                            Maseczka  \\\n",
       "0  Nacomi Next Lvl Kwas Salicylowy 2% + Nature Qu...   \n",
       "1  Nacomi Next Lvl Kwas Salicylowy 2% + Nacomi Bi...   \n",
       "2  Nacomi Next Lvl Kwas Salicylowy 2% + Nacomi Bi...   \n",
       "\n",
       "                                             Peeling  \n",
       "0                                               Brak  \n",
       "1  BANDI ANTI ACNE antytrądzikowy peeling kwasowy...  \n",
       "2  BANDI ANTI ACNE antytrądzikowy peeling kwasowy...  "
      ]
     },
     "execution_count": 9,
     "metadata": {},
     "output_type": "execute_result"
    }
   ],
   "source": [
    "dataset.head(3)"
   ]
  },
  {
   "cell_type": "code",
   "execution_count": 10,
   "id": "75b37ead",
   "metadata": {},
   "outputs": [
    {
     "data": {
      "text/html": [
       "<div>\n",
       "<style scoped>\n",
       "    .dataframe tbody tr th:only-of-type {\n",
       "        vertical-align: middle;\n",
       "    }\n",
       "\n",
       "    .dataframe tbody tr th {\n",
       "        vertical-align: top;\n",
       "    }\n",
       "\n",
       "    .dataframe thead th {\n",
       "        text-align: right;\n",
       "    }\n",
       "</style>\n",
       "<table border=\"1\" class=\"dataframe\">\n",
       "  <thead>\n",
       "    <tr style=\"text-align: right;\">\n",
       "      <th></th>\n",
       "      <th>Typ cery</th>\n",
       "      <th>Wrażliwa</th>\n",
       "      <th>Główny problem</th>\n",
       "      <th>Poboczny problem</th>\n",
       "      <th>Wiek</th>\n",
       "      <th>Mycie</th>\n",
       "      <th>Serum na dzień</th>\n",
       "      <th>Krem na dzień</th>\n",
       "      <th>SPF</th>\n",
       "      <th>Serum na noc</th>\n",
       "      <th>Krem na noc</th>\n",
       "      <th>Punktowo</th>\n",
       "      <th>Maseczka</th>\n",
       "      <th>Peeling</th>\n",
       "    </tr>\n",
       "  </thead>\n",
       "  <tbody>\n",
       "    <tr>\n",
       "      <th>0</th>\n",
       "      <td>3</td>\n",
       "      <td>0</td>\n",
       "      <td>0</td>\n",
       "      <td>2</td>\n",
       "      <td>17</td>\n",
       "      <td>16</td>\n",
       "      <td>12</td>\n",
       "      <td>19</td>\n",
       "      <td>12</td>\n",
       "      <td>4</td>\n",
       "      <td>15</td>\n",
       "      <td>1</td>\n",
       "      <td>10</td>\n",
       "      <td>2</td>\n",
       "    </tr>\n",
       "    <tr>\n",
       "      <th>1</th>\n",
       "      <td>0</td>\n",
       "      <td>1</td>\n",
       "      <td>0</td>\n",
       "      <td>2</td>\n",
       "      <td>20</td>\n",
       "      <td>19</td>\n",
       "      <td>12</td>\n",
       "      <td>2</td>\n",
       "      <td>5</td>\n",
       "      <td>11</td>\n",
       "      <td>15</td>\n",
       "      <td>1</td>\n",
       "      <td>9</td>\n",
       "      <td>0</td>\n",
       "    </tr>\n",
       "    <tr>\n",
       "      <th>2</th>\n",
       "      <td>0</td>\n",
       "      <td>1</td>\n",
       "      <td>0</td>\n",
       "      <td>2</td>\n",
       "      <td>20</td>\n",
       "      <td>19</td>\n",
       "      <td>12</td>\n",
       "      <td>10</td>\n",
       "      <td>5</td>\n",
       "      <td>11</td>\n",
       "      <td>9</td>\n",
       "      <td>1</td>\n",
       "      <td>9</td>\n",
       "      <td>0</td>\n",
       "    </tr>\n",
       "  </tbody>\n",
       "</table>\n",
       "</div>"
      ],
      "text/plain": [
       "   Typ cery  Wrażliwa  Główny problem  Poboczny problem  Wiek  Mycie  \\\n",
       "0         3         0               0                 2    17     16   \n",
       "1         0         1               0                 2    20     19   \n",
       "2         0         1               0                 2    20     19   \n",
       "\n",
       "   Serum na dzień  Krem na dzień  SPF  Serum na noc  Krem na noc  Punktowo  \\\n",
       "0              12             19   12             4           15         1   \n",
       "1              12              2    5            11           15         1   \n",
       "2              12             10    5            11            9         1   \n",
       "\n",
       "   Maseczka  Peeling  \n",
       "0        10        2  \n",
       "1         9        0  \n",
       "2         9        0  "
      ]
     },
     "execution_count": 10,
     "metadata": {},
     "output_type": "execute_result"
    }
   ],
   "source": [
    "labeled_data.head(3)"
   ]
  },
  {
   "cell_type": "code",
   "execution_count": 11,
   "id": "1e9ea706",
   "metadata": {},
   "outputs": [
    {
     "data": {
      "text/html": [
       "<div>\n",
       "<style scoped>\n",
       "    .dataframe tbody tr th:only-of-type {\n",
       "        vertical-align: middle;\n",
       "    }\n",
       "\n",
       "    .dataframe tbody tr th {\n",
       "        vertical-align: top;\n",
       "    }\n",
       "\n",
       "    .dataframe thead th {\n",
       "        text-align: right;\n",
       "    }\n",
       "</style>\n",
       "<table border=\"1\" class=\"dataframe\">\n",
       "  <thead>\n",
       "    <tr style=\"text-align: right;\">\n",
       "      <th></th>\n",
       "      <th>Acnederm</th>\n",
       "      <th>APIS COUPEROSE-STOP SERUM DLA CERY Z PROBLEMAMI NACZYNKOWYMI</th>\n",
       "      <th>APIS Maska Ściągająco-Wygładzająca z Białą Glinką i Cynkiem</th>\n",
       "      <th>Avene Cleanance Women</th>\n",
       "      <th>Bandi - Delicate Care - Kojący Krem Matujący</th>\n",
       "      <th>Bandi - Sebo Care - Pasta Punktowa na Niedoskonałości z Kalaminą</th>\n",
       "      <th>BANDI ANTI ACNE antytrądzikowy peeling kwasowy do twarzy</th>\n",
       "      <th>BANDI ANTI DRY peeling kwasowy do twarzy silnie nawilżający</th>\n",
       "      <th>Bandi Medical Expert Anti Dry Emulsja silnie nawilżająca</th>\n",
       "      <th>Bandi Medical Expert Anti Dry Kremowa kuracja nawilżająco-naprawcza</th>\n",
       "      <th>...</th>\n",
       "      <th>Tołpa - Authentic - Krem Matowa Skóra</th>\n",
       "      <th>Tołpa - Dermo Face Strefa T - Matujący Krem-Żel Nawilżający</th>\n",
       "      <th>Tołpa - Pre Age - Matujące Serum Normalizujące - 20ml</th>\n",
       "      <th>Tołpa Authentic Nawilżona Skóra</th>\n",
       "      <th>TOŁPA DERMO FACE SEBIO peeling 3 enzymy</th>\n",
       "      <th>TOŁPA DERMO FACE STREFA T nawilżające serum-booster</th>\n",
       "      <th>Uriage Roseliane SPF30 krem do cery naczynkowej</th>\n",
       "      <th>Vianek Nawilżająca Emulsja Myjąca do Twarzy</th>\n",
       "      <th>Żel Tołpa Dermo Face Physio</th>\n",
       "      <th>Brak</th>\n",
       "    </tr>\n",
       "  </thead>\n",
       "  <tbody>\n",
       "    <tr>\n",
       "      <th>0</th>\n",
       "      <td>https://image.ceneostatic.pl/data/products/648...</td>\n",
       "      <td>https://wizaz24.pl/image/7444732a7hz44phbgk2d</td>\n",
       "      <td>https://kosme.pl/pol_pl_Maska-sciagajaco-wygla...</td>\n",
       "      <td>https://image.ceneostatic.pl/data/article_pict...</td>\n",
       "      <td>https://static.wizaz.pl/media/images/kwc/produ...</td>\n",
       "      <td>https://www.bandi.pl/pct/preparaty972@1_0.jpg</td>\n",
       "      <td>https://static.wizaz.pl/media/cache/500x500/kw...</td>\n",
       "      <td>https://image.ceneostatic.pl/data/article_pict...</td>\n",
       "      <td>https://static.wizaz.pl/media/cache/500x500/kw...</td>\n",
       "      <td>https://static.wizaz.pl/media/cache/500x500/kw...</td>\n",
       "      <td>...</td>\n",
       "      <td>https://wizaz24.pl/image/ar5f4kpexd7uwk5kaxtu</td>\n",
       "      <td>https://static.wizaz.pl/media/images/kwc/produ...</td>\n",
       "      <td>https://cosibella.pl/pol_pl_Tolpa-Pre-Age-Matu...</td>\n",
       "      <td>https://static.wizaz.pl/media/images/kwc/produ...</td>\n",
       "      <td>https://image.ceneostatic.pl/data/products/117...</td>\n",
       "      <td>https://image.ceneostatic.pl/data/products/822...</td>\n",
       "      <td>https://static.wizaz.pl/media/cache/500x500/kw...</td>\n",
       "      <td>https://static.wizaz.pl/media/cache/500x500/kw...</td>\n",
       "      <td>https://static.wizaz.pl/media/images/kwc/produ...</td>\n",
       "      <td>0</td>\n",
       "    </tr>\n",
       "  </tbody>\n",
       "</table>\n",
       "<p>1 rows × 62 columns</p>\n",
       "</div>"
      ],
      "text/plain": [
       "                                            Acnederm  \\\n",
       "0  https://image.ceneostatic.pl/data/products/648...   \n",
       "\n",
       "  APIS COUPEROSE-STOP SERUM DLA CERY Z PROBLEMAMI NACZYNKOWYMI  \\\n",
       "0      https://wizaz24.pl/image/7444732a7hz44phbgk2d             \n",
       "\n",
       "  APIS Maska Ściągająco-Wygładzająca z Białą Glinką i Cynkiem  \\\n",
       "0  https://kosme.pl/pol_pl_Maska-sciagajaco-wygla...            \n",
       "\n",
       "                               Avene Cleanance Women  \\\n",
       "0  https://image.ceneostatic.pl/data/article_pict...   \n",
       "\n",
       "        Bandi - Delicate Care - Kojący Krem Matujący  \\\n",
       "0  https://static.wizaz.pl/media/images/kwc/produ...   \n",
       "\n",
       "  Bandi - Sebo Care - Pasta Punktowa na Niedoskonałości z Kalaminą  \\\n",
       "0      https://www.bandi.pl/pct/preparaty972@1_0.jpg                 \n",
       "\n",
       "  BANDI ANTI ACNE antytrądzikowy peeling kwasowy do twarzy  \\\n",
       "0  https://static.wizaz.pl/media/cache/500x500/kw...         \n",
       "\n",
       "  BANDI ANTI DRY peeling kwasowy do twarzy silnie nawilżający  \\\n",
       "0  https://image.ceneostatic.pl/data/article_pict...            \n",
       "\n",
       "  Bandi Medical Expert Anti Dry Emulsja silnie nawilżająca  \\\n",
       "0  https://static.wizaz.pl/media/cache/500x500/kw...         \n",
       "\n",
       "  Bandi Medical Expert Anti Dry Kremowa kuracja nawilżająco-naprawcza  ...  \\\n",
       "0  https://static.wizaz.pl/media/cache/500x500/kw...                   ...   \n",
       "\n",
       "           Tołpa - Authentic - Krem Matowa Skóra  \\\n",
       "0  https://wizaz24.pl/image/ar5f4kpexd7uwk5kaxtu   \n",
       "\n",
       "  Tołpa - Dermo Face Strefa T - Matujący Krem-Żel Nawilżający  \\\n",
       "0  https://static.wizaz.pl/media/images/kwc/produ...            \n",
       "\n",
       "  Tołpa - Pre Age - Matujące Serum Normalizujące - 20ml  \\\n",
       "0  https://cosibella.pl/pol_pl_Tolpa-Pre-Age-Matu...      \n",
       "\n",
       "                     Tołpa Authentic Nawilżona Skóra  \\\n",
       "0  https://static.wizaz.pl/media/images/kwc/produ...   \n",
       "\n",
       "             TOŁPA DERMO FACE SEBIO peeling 3 enzymy  \\\n",
       "0  https://image.ceneostatic.pl/data/products/117...   \n",
       "\n",
       "  TOŁPA DERMO FACE STREFA T nawilżające serum-booster  \\\n",
       "0  https://image.ceneostatic.pl/data/products/822...    \n",
       "\n",
       "     Uriage Roseliane SPF30 krem do cery naczynkowej  \\\n",
       "0  https://static.wizaz.pl/media/cache/500x500/kw...   \n",
       "\n",
       "         Vianek Nawilżająca Emulsja Myjąca do Twarzy  \\\n",
       "0  https://static.wizaz.pl/media/cache/500x500/kw...   \n",
       "\n",
       "                         Żel Tołpa Dermo Face Physio Brak  \n",
       "0  https://static.wizaz.pl/media/images/kwc/produ...    0  \n",
       "\n",
       "[1 rows x 62 columns]"
      ]
     },
     "execution_count": 11,
     "metadata": {},
     "output_type": "execute_result"
    }
   ],
   "source": [
    "products.head(3)"
   ]
  },
  {
   "cell_type": "code",
   "execution_count": 12,
   "id": "3299ae5a",
   "metadata": {},
   "outputs": [
    {
     "name": "stdout",
     "output_type": "stream",
     "text": [
      "Mycie : 24\n",
      "Serum na dzień : 19\n",
      "Krem na dzień : 23\n",
      "SPF : 16\n",
      "Serum na noc : 13\n",
      "Krem na noc : 20\n",
      "Punktowo : 13\n",
      "Maseczka : 12\n",
      "Peeling : 10\n",
      "Suma unikalnych wartości: 150\n"
     ]
    }
   ],
   "source": [
    "DECISION_COLUMN_NAMES = ['Mycie',\n",
    "'Serum na dzień',\n",
    "'Krem na dzień',\n",
    "'SPF',\n",
    "'Serum na noc',\n",
    "'Krem na noc',\n",
    "'Punktowo',\n",
    "'Maseczka',\n",
    "'Peeling'\n",
    "]\n",
    "\n",
    "sum = 0\n",
    "for column in DECISION_COLUMN_NAMES:\n",
    "    print(column,\":\",dataset[column].nunique())\n",
    "    sum += dataset[column].nunique()\n",
    "\n",
    "print(\"Suma unikalnych wartości:\", sum)\n"
   ]
  },
  {
   "cell_type": "code",
   "execution_count": 13,
   "id": "7fe5be41",
   "metadata": {},
   "outputs": [
    {
     "name": "stdout",
     "output_type": "stream",
     "text": [
      "<class 'pandas.core.frame.DataFrame'>\n",
      "RangeIndex: 225 entries, 0 to 224\n",
      "Data columns (total 14 columns):\n",
      " #   Column            Non-Null Count  Dtype \n",
      "---  ------            --------------  ----- \n",
      " 0   Typ cery          225 non-null    object\n",
      " 1   Wrażliwa          225 non-null    int64 \n",
      " 2   Główny problem    225 non-null    object\n",
      " 3   Poboczny problem  225 non-null    object\n",
      " 4   Wiek              225 non-null    int64 \n",
      " 5   Mycie             225 non-null    object\n",
      " 6   Serum na dzień    225 non-null    object\n",
      " 7   Krem na dzień     225 non-null    object\n",
      " 8   SPF               225 non-null    object\n",
      " 9   Serum na noc      225 non-null    object\n",
      " 10  Krem na noc       225 non-null    object\n",
      " 11  Punktowo          225 non-null    object\n",
      " 12  Maseczka          225 non-null    object\n",
      " 13  Peeling           225 non-null    object\n",
      "dtypes: int64(2), object(12)\n",
      "memory usage: 24.7+ KB\n"
     ]
    }
   ],
   "source": [
    "dataset_raw.info()"
   ]
  },
  {
   "cell_type": "code",
   "execution_count": 14,
   "id": "89efb699",
   "metadata": {},
   "outputs": [
    {
     "name": "stdout",
     "output_type": "stream",
     "text": [
      "<class 'pandas.core.frame.DataFrame'>\n",
      "RangeIndex: 5218 entries, 0 to 5217\n",
      "Data columns (total 14 columns):\n",
      " #   Column            Non-Null Count  Dtype \n",
      "---  ------            --------------  ----- \n",
      " 0   Typ cery          5218 non-null   object\n",
      " 1   Wrażliwa          5218 non-null   int64 \n",
      " 2   Główny problem    5218 non-null   object\n",
      " 3   Poboczny problem  5218 non-null   object\n",
      " 4   Wiek              5218 non-null   int64 \n",
      " 5   Mycie             5218 non-null   object\n",
      " 6   Serum na dzień    5218 non-null   object\n",
      " 7   Krem na dzień     5218 non-null   object\n",
      " 8   SPF               5218 non-null   object\n",
      " 9   Serum na noc      5218 non-null   object\n",
      " 10  Krem na noc       5218 non-null   object\n",
      " 11  Punktowo          5218 non-null   object\n",
      " 12  Maseczka          5218 non-null   object\n",
      " 13  Peeling           5218 non-null   object\n",
      "dtypes: int64(2), object(12)\n",
      "memory usage: 570.8+ KB\n"
     ]
    }
   ],
   "source": [
    "dataset.info()"
   ]
  },
  {
   "cell_type": "code",
   "execution_count": 15,
   "id": "03e5feb4",
   "metadata": {},
   "outputs": [
    {
     "name": "stdout",
     "output_type": "stream",
     "text": [
      "<class 'pandas.core.frame.DataFrame'>\n",
      "RangeIndex: 5218 entries, 0 to 5217\n",
      "Data columns (total 14 columns):\n",
      " #   Column            Non-Null Count  Dtype\n",
      "---  ------            --------------  -----\n",
      " 0   Typ cery          5218 non-null   int64\n",
      " 1   Wrażliwa          5218 non-null   int64\n",
      " 2   Główny problem    5218 non-null   int64\n",
      " 3   Poboczny problem  5218 non-null   int64\n",
      " 4   Wiek              5218 non-null   int64\n",
      " 5   Mycie             5218 non-null   int64\n",
      " 6   Serum na dzień    5218 non-null   int64\n",
      " 7   Krem na dzień     5218 non-null   int64\n",
      " 8   SPF               5218 non-null   int64\n",
      " 9   Serum na noc      5218 non-null   int64\n",
      " 10  Krem na noc       5218 non-null   int64\n",
      " 11  Punktowo          5218 non-null   int64\n",
      " 12  Maseczka          5218 non-null   int64\n",
      " 13  Peeling           5218 non-null   int64\n",
      "dtypes: int64(14)\n",
      "memory usage: 570.8 KB\n"
     ]
    }
   ],
   "source": [
    "labeled_data.info()"
   ]
  },
  {
   "cell_type": "code",
   "execution_count": 16,
   "id": "eb9d976e",
   "metadata": {},
   "outputs": [
    {
     "name": "stdout",
     "output_type": "stream",
     "text": [
      "<class 'pandas.core.frame.DataFrame'>\n",
      "RangeIndex: 1 entries, 0 to 0\n",
      "Data columns (total 62 columns):\n",
      " #   Column                                                                                                                            Non-Null Count  Dtype \n",
      "---  ------                                                                                                                            --------------  ----- \n",
      " 0   Acnederm                                                                                                                          1 non-null      object\n",
      " 1   APIS COUPEROSE-STOP SERUM DLA CERY Z PROBLEMAMI NACZYNKOWYMI                                                                      1 non-null      object\n",
      " 2   APIS Maska Ściągająco-Wygładzająca z Białą Glinką i Cynkiem                                                                       1 non-null      object\n",
      " 3   Avene Cleanance Women                                                                                                             1 non-null      object\n",
      " 4   Bandi - Delicate Care - Kojący Krem Matujący                                                                                      1 non-null      object\n",
      " 5   Bandi - Sebo Care - Pasta Punktowa na Niedoskonałości z Kalaminą                                                                  1 non-null      object\n",
      " 6   BANDI ANTI ACNE antytrądzikowy peeling kwasowy do twarzy                                                                          1 non-null      object\n",
      " 7   BANDI ANTI DRY peeling kwasowy do twarzy silnie nawilżający                                                                       1 non-null      object\n",
      " 8   Bandi Medical Expert Anti Dry Emulsja silnie nawilżająca                                                                          1 non-null      object\n",
      " 9   Bandi Medical Expert Anti Dry Kremowa kuracja nawilżająco-naprawcza                                                               1 non-null      object\n",
      " 10  BasicLab Serum Zmniejszające Niedoskonałości Z Niacynamidem 5% Redukcja i Zwężenie                                                1 non-null      object\n",
      " 11  Benton Goodbye Redness Centella Łagodząca Maska w Płacie                                                                          1 non-null      object\n",
      " 12  BIELENDA CERA NACZYNKOWA REDUKUJĄCY ZACZERWIENIENIA KREM NA DZIEŃ                                                                 1 non-null      object\n",
      " 13  Bielenda Hydra Boost nawilżające serum do twarzy                                                                                  1 non-null      object\n",
      " 14  Bielenda Professional SupremeLAB Barrier Renew Odżywczy Krem na Noc z Ceramidami                                                  1 non-null      object\n",
      " 15  Bielenda Professional SupremeLAB Energetyzująco-Nawilżający Krem z Witaminą C                                                     1 non-null      object\n",
      " 16  Bielenda Professional SupremeLAB Microbiome Ratunkowa Maseczka                                                                    1 non-null      object\n",
      " 17  Bielenda Professional SupremeLab Sebio Derm Serum do Twarzy                                                                       1 non-null      object\n",
      " 18  BIELENDA CBD Cannabidiol                                                                                                          1 non-null      object\n",
      " 19  CeraVe Nawilżająca emulsja do mycia dla skóry normalnej i suchej                                                                  1 non-null      object\n",
      " 20  CeraVe Nawilżający Krem do Twarzy                                                                                                 1 non-null      object\n",
      " 21  CeraVe Wygładzający Żel do Mycia                                                                                                  1 non-null      object\n",
      " 22  Cetaphil - Pro Oil Control - Oczyszczająca Pianka do Mycia Skóry Tłustej i Mieszanej                                              1 non-null      object\n",
      " 23  Cetaphil - Pro Oil Control SPF30 - Krem Nawilżająco-Matujący                                                                      1 non-null      object\n",
      " 24  CETAPHIL MD DERMOPROTEKTOR                                                                                                        1 non-null      object\n",
      " 25  Cosrx - Low pH Good Morning Gel Cleanser - Łagodny Żel do Mycia Twarzy                                                            1 non-null      object\n",
      " 26  Dermedic Melumin                                                                                                                  1 non-null      object\n",
      " 27  Eveline Cosmetics Beauty & Glow Matujące Serum z Probiotykami                                                                     1 non-null      object\n",
      " 28  Floslek SUN CARE Krem-żel anti-spot SPF 50                                                                                        1 non-null      object\n",
      " 29  Maść z witaminą A                                                                                                                 1 non-null      object\n",
      " 30  Mediheal NMF Aquaring Ampoule Mask EX                                                                                             1 non-null      object\n",
      " 31  Missha - All-Around Safe Block Aqua Sun Gel SPF50+/PA++++                                                                         1 non-null      object\n",
      " 32  Missha - Super Aqua Ultra Hyalron Cleansing Foam                                                                                  1 non-null      object\n",
      " 33  MIYA COSMETICS BEAUTY LAB serum z prebiotykiem do twarzy                                                                          1 non-null      object\n",
      " 34  MIYA Serum z witaminą C na przebarwienia                                                                                          1 non-null      object\n",
      " 35  Nacomi Next Level Serum Ceramidy 5%                                                                                               1 non-null      object\n",
      " 36  Nacomi Next Lvl Kwas Salicylowy 2% + Nacomi Biała Glinka do Twarzy Kaolin                                                         1 non-null      int64 \n",
      " 37  Nacomi Next Lvl Kwas Salicylowy 2% + Nature Queen Glinka Zielona                                                                  1 non-null      int64 \n",
      " 38  Neutrogena Visibly Clear Clear & Defend Facial Wash                                                                               1 non-null      object\n",
      " 39  Pharmaceris T Puri-Sebogel - antybakteryjny żel myjący do twarzy                                                                  1 non-null      object\n",
      " 40  Revox Just Daily Sun Krem przeciwsłoneczny SPF50                                                                                  1 non-null      object\n",
      " 41  Revox Just Niacinamide 10%                                                                                                        1 non-null      object\n",
      " 42  REVOX JUST niacynamid 10%                                                                                                         1 non-null      object\n",
      " 43  Bielenda Hydra Boost nawilżające serum do twarzy + SKIN79 Nawilżająca maska algowa Skin Relaxer Algae Modeling Mask Moisturizing  1 non-null      int64 \n",
      " 44  Skin79 Waterproof Sun Gel Krem ochronny SPF50                                                                                     1 non-null      object\n",
      " 45  SVR Hydraliane                                                                                                                    1 non-null      object\n",
      " 46  SVR Sebiaclear Creme SPF 50                                                                                                       1 non-null      object\n",
      " 47  SVR Sebiaclear Hydra                                                                                                              1 non-null      object\n",
      " 48  SVR Sensifine AR                                                                                                                  1 non-null      object\n",
      " 49  The Ordinary - Niacinamide 10% + Zinc 1% - Serum z Witaminą B3 i Cynkiem                                                          1 non-null      object\n",
      " 50  The Ordinary - Salicylic Acid 2% Masque - Maska Glinkowo-Węglowa z 2% Kwasem Salicylowym                                          1 non-null      object\n",
      " 51  The Ordinary Hyaluronic Acid 2% + B5                                                                                              1 non-null      object\n",
      " 52  Tołpa - Authentic - Krem Matowa Skóra                                                                                             1 non-null      object\n",
      " 53  Tołpa - Dermo Face Strefa T - Matujący Krem-Żel Nawilżający                                                                       1 non-null      object\n",
      " 54  Tołpa - Pre Age - Matujące Serum Normalizujące - 20ml                                                                             1 non-null      object\n",
      " 55  Tołpa Authentic Nawilżona Skóra                                                                                                   1 non-null      object\n",
      " 56  TOŁPA DERMO FACE SEBIO peeling 3 enzymy                                                                                           1 non-null      object\n",
      " 57  TOŁPA DERMO FACE STREFA T nawilżające serum-booster                                                                               1 non-null      object\n",
      " 58  Uriage Roseliane SPF30 krem do cery naczynkowej                                                                                   1 non-null      object\n",
      " 59  Vianek Nawilżająca Emulsja Myjąca do Twarzy                                                                                       1 non-null      object\n",
      " 60  Żel Tołpa Dermo Face Physio                                                                                                       1 non-null      object\n",
      " 61  Brak                                                                                                                              1 non-null      int64 \n",
      "dtypes: int64(4), object(58)\n",
      "memory usage: 624.0+ bytes\n"
     ]
    }
   ],
   "source": [
    "products.info()"
   ]
  },
  {
   "cell_type": "code",
   "execution_count": 17,
   "id": "e866467e",
   "metadata": {},
   "outputs": [
    {
     "name": "stdout",
     "output_type": "stream",
     "text": [
      "Typ cery [0 1 2 3]\n",
      "Wrażliwa [0 1]\n",
      "Główny problem [0 1 2 3 4 5 6 7]\n",
      "Poboczny problem [0 1 2 3 4 5 6 7 8 9]\n",
      "Wiek [16 17 18 19 20 21 22 23 24 25 26 27 28 29 30 31 32 33 34 35 36 37]\n",
      "Mycie [ 0  1  2  3  4  5  6  7  8  9 10 11 12 13 14 15 16 17 18 19 20 21 22 23]\n",
      "Serum na dzień [ 0  1  2  3  4  5  6  7  8  9 10 11 12 13 14 15 16 17 18]\n",
      "Krem na dzień [ 0  1  2  3  4  5  6  7  8  9 10 11 12 13 14 15 16 17 18 19 20 21 22]\n",
      "SPF [ 0  1  2  3  4  5  6  7  8  9 10 11 12 13 14 15]\n",
      "Serum na noc [ 0  1  2  3  4  5  6  7  8  9 10 11 12]\n",
      "Krem na noc [ 0  1  2  3  4  5  6  7  8  9 10 11 12 13 14 15 16 17 18 19]\n",
      "Punktowo [ 0  1  2  3  4  5  6  7  8  9 10 11 12]\n",
      "Maseczka [ 0  1  2  3  4  5  6  7  8  9 10 11]\n",
      "Peeling [0 1 2 3 4 5 6 7 8 9]\n"
     ]
    }
   ],
   "source": [
    "for column in labeled_data:\n",
    "    print(column, np.unique(labeled_data[column]))"
   ]
  },
  {
   "cell_type": "markdown",
   "id": "8fdaa54e",
   "metadata": {},
   "source": [
    "Wizualizacja danych po przetworzeniu"
   ]
  },
  {
   "cell_type": "code",
   "execution_count": 18,
   "id": "4a600000",
   "metadata": {},
   "outputs": [
    {
     "data": {
      "text/plain": [
       "[Text(0, 0, '2273'), Text(0, 0, '2945')]"
      ]
     },
     "execution_count": 18,
     "metadata": {},
     "output_type": "execute_result"
    },
    {
     "data": {
      "image/png": "[encoded data removed]",
      "text/plain": [
       "<Figure size 1440x864 with 1 Axes>"
      ]
     },
     "metadata": {},
     "output_type": "display_data"
    }
   ],
   "source": [
    "sn.set(rc={'figure.figsize':(20,12)})\n",
    "isSenstivieBar = sn.countplot(x=\"Wrażliwa\", data=dataset)\n",
    "isSenstivieBar.set(ylabel='Ilość')\n",
    "isSenstivieBar.bar_label(isSenstivieBar.containers[0])"
   ]
  },
  {
   "cell_type": "code",
   "execution_count": 19,
   "id": "cc327515",
   "metadata": {},
   "outputs": [
    {
     "data": {
      "image/png": "[encoded data removed]",
      "text/plain": [
       "<Figure size 1440x864 with 1 Axes>"
      ]
     },
     "metadata": {},
     "output_type": "display_data"
    }
   ],
   "source": [
    "data = [dataset['Typ cery'].value_counts()['Tłusta'], dataset['Typ cery'].value_counts()['Mieszana'], dataset['Typ cery'].value_counts()['Normalna'], dataset['Typ cery'].value_counts()['Sucha']]\n",
    "labels = ['Tłusta', 'Mieszana', 'Normalna', 'Sucha']\n",
    "\n",
    "plt.pie(data, labels = labels, autopct='%.0f%%')\n",
    "plt.title('Typ cery')\n",
    "plt.show()"
   ]
  },
  {
   "cell_type": "code",
   "execution_count": 20,
   "id": "1b17bb2c",
   "metadata": {},
   "outputs": [
    {
     "data": {
      "text/plain": [
       "[Text(0, 0, '758'),\n",
       " Text(0, 0, '1424'),\n",
       " Text(0, 0, '765'),\n",
       " Text(0, 0, '519'),\n",
       " Text(0, 0, '420'),\n",
       " Text(0, 0, '178'),\n",
       " Text(0, 0, '409'),\n",
       " Text(0, 0, '745')]"
      ]
     },
     "execution_count": 20,
     "metadata": {},
     "output_type": "execute_result"
    },
    {
     "data": {
      "image/png": "[encoded data removed]",
      "text/plain": [
       "<Figure size 1440x864 with 1 Axes>"
      ]
     },
     "metadata": {},
     "output_type": "display_data"
    }
   ],
   "source": [
    "mainIssue = sn.countplot(x=\"Główny problem\", data=dataset)\n",
    "mainIssue.set(ylabel='Ilość')\n",
    "mainIssue.bar_label(mainIssue.containers[0])"
   ]
  },
  {
   "cell_type": "code",
   "execution_count": 21,
   "id": "5c7dd72e",
   "metadata": {},
   "outputs": [
    {
     "data": {
      "text/plain": [
       "[Text(0, 0, '498'),\n",
       " Text(0, 0, '590'),\n",
       " Text(0, 0, '804'),\n",
       " Text(0, 0, '1722'),\n",
       " Text(0, 0, '812'),\n",
       " Text(0, 0, '379'),\n",
       " Text(0, 0, '59'),\n",
       " Text(0, 0, '109'),\n",
       " Text(0, 0, '22'),\n",
       " Text(0, 0, '223')]"
      ]
     },
     "execution_count": 21,
     "metadata": {},
     "output_type": "execute_result"
    },
    {
     "data": {
      "image/png": "[encoded data removed]",
      "text/plain": [
       "<Figure size 1440x864 with 1 Axes>"
      ]
     },
     "metadata": {},
     "output_type": "display_data"
    }
   ],
   "source": [
    "secondIssue = sn.countplot(x=\"Poboczny problem\", data=dataset)\n",
    "secondIssue.set(ylabel='Ilość')\n",
    "secondIssue.bar_label(secondIssue.containers[0])"
   ]
  },
  {
   "cell_type": "code",
   "execution_count": 22,
   "id": "ceac4853",
   "metadata": {},
   "outputs": [
    {
     "data": {
      "text/plain": [
       "[Text(0, 0, '282'),\n",
       " Text(0, 0, '594'),\n",
       " Text(0, 0, '537'),\n",
       " Text(0, 0, '457'),\n",
       " Text(0, 0, '509'),\n",
       " Text(0, 0, '435'),\n",
       " Text(0, 0, '400'),\n",
       " Text(0, 0, '363'),\n",
       " Text(0, 0, '349'),\n",
       " Text(0, 0, '261'),\n",
       " Text(0, 0, '249'),\n",
       " Text(0, 0, '189'),\n",
       " Text(0, 0, '149'),\n",
       " Text(0, 0, '114'),\n",
       " Text(0, 0, '81'),\n",
       " Text(0, 0, '68'),\n",
       " Text(0, 0, '59'),\n",
       " Text(0, 0, '37'),\n",
       " Text(0, 0, '32'),\n",
       " Text(0, 0, '23'),\n",
       " Text(0, 0, '22'),\n",
       " Text(0, 0, '8')]"
      ]
     },
     "execution_count": 22,
     "metadata": {},
     "output_type": "execute_result"
    },
    {
     "data": {
      "image/png": "[encoded data removed]",
      "text/plain": [
       "<Figure size 1440x864 with 1 Axes>"
      ]
     },
     "metadata": {},
     "output_type": "display_data"
    }
   ],
   "source": [
    "age = sn.countplot(x=\"Wiek\", data=dataset)\n",
    "age.set(ylabel='Ilość')\n",
    "age.bar_label(age.containers[0])"
   ]
  }
 ],
 "metadata": {
  "kernelspec": {
   "display_name": "Python 3 (ipykernel)",
   "language": "python",
   "name": "python3"
  },
  "language_info": {
   "codemirror_mode": {
    "name": "ipython",
    "version": 3
   },
   "file_extension": ".py",
   "mimetype": "text/x-python",
   "name": "python",
   "nbconvert_exporter": "python",
   "pygments_lexer": "ipython3",
   "version": "3.10.4"
  },
  "vscode": {
   "interpreter": {
    "hash": "bf4ad97330bae9eef050a57e98f152bc4c5a90968c1b3f9a5e3e5e8c43c709a9"
   }
  }
 },
 "nbformat": 4,
 "nbformat_minor": 5
}
